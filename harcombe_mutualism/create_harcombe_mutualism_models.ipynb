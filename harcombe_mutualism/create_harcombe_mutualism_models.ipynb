{
 "cells": [
  {
   "cell_type": "code",
   "execution_count": 73,
   "metadata": {},
   "outputs": [],
   "source": [
    "import cobra\n",
    "import cobra.test\n",
    "import cometspy as c\n",
    "import os\n",
    "os.environ['GUROBI_COMETS_HOME'] = '/opt/gurobi952/linux64'\n",
    "import pandas as pd\n",
    "pd.set_option('display.max_rows', None) "
   ]
  },
  {
   "cell_type": "markdown",
   "metadata": {},
   "source": [
    "## This notebook shows how to make the mutualism models from newer WT metabolic models. The exception is M0, for which I do not have a WT model. If you prefer to just load the old models, see the notebook \"use_old_comets_mutualism_models.ipynb\"\n",
    "\n",
    "## The current E. coli model is iML1515.  The current S. enterica model is STM_v1_0.  These will be loaded and altered to make E0 and S0.\n",
    "\n",
    "## I have placed these files in a subdirectory \"models\", along with M0 (jmc_AM1_KO.xml).\n",
    "\n",
    "## If you don't want to bother creating E0, S0, these models are also in that directory, with the suffix \"E0\" or \"S0\"."
   ]
  },
  {
   "cell_type": "code",
   "execution_count": 10,
   "metadata": {},
   "outputs": [],
   "source": [
    "E_WT = cobra.io.read_sbml_model(\"./models/iML1515.xml\")\n",
    "S_WT = cobra.io.read_sbml_model(\"./models/STM_v1_0.xml\")"
   ]
  },
  {
   "cell_type": "markdown",
   "metadata": {},
   "source": [
    "# Making E0\n",
    "\n",
    "This is very easy, all we have to do is knockout the metB gene, which is b3939. We'll make a copy of the model first so we can compare later. I won't actually save the model, but I'll have a commented-out line which would. "
   ]
  },
  {
   "cell_type": "code",
   "execution_count": 11,
   "metadata": {},
   "outputs": [
    {
     "data": {
      "text/html": [
       "\n",
       "        <table>\n",
       "            <tr>\n",
       "                <td><strong>Gene identifier</strong></td><td>b3939</td>\n",
       "            </tr><tr>\n",
       "                <td><strong>Name</strong></td><td>metB</td>\n",
       "            </tr><tr>\n",
       "                <td><strong>Memory address</strong></td>\n",
       "                <td>0x07f16907b0940</td>\n",
       "            </tr><tr>\n",
       "                <td><strong>Functional</strong></td><td>True</td>\n",
       "            </tr><tr>\n",
       "                <td><strong>In 1 reaction(s)</strong></td><td>\n",
       "                    SHSL1</td>\n",
       "            </tr>\n",
       "        </table>"
      ],
      "text/plain": [
       "<Gene b3939 at 0x7f16907b0940>"
      ]
     },
     "execution_count": 11,
     "metadata": {},
     "output_type": "execute_result"
    }
   ],
   "source": [
    "E0 = E_WT.copy()\n",
    "E0.genes.b3939"
   ]
  },
  {
   "cell_type": "code",
   "execution_count": 13,
   "metadata": {},
   "outputs": [],
   "source": [
    "E0.genes.b3939.knock_out()\n",
    "#E0.id = \"E0\" # if desired, change the model id\n",
    "#cobra.io.write_sbml_model(E0, \"./models/iML1515_E0.xml\")"
   ]
  },
  {
   "cell_type": "markdown",
   "metadata": {},
   "source": [
    "# compare E_WT vs. E0 growth in lactose env +- methionine"
   ]
  },
  {
   "cell_type": "code",
   "execution_count": 21,
   "metadata": {},
   "outputs": [
    {
     "name": "stdout",
     "output_type": "stream",
     "text": [
      "E_WT growth on lac - met = 0.7447905301220479\n",
      "E0 growth on lac - met = 0.0\n",
      "E_WT growth on lac + met = 0.7541530691168099\n",
      "E0 growth on lac + met = 0.7541530691168118\n"
     ]
    }
   ],
   "source": [
    "lactose_medium = {'EX_ca2_e': 10,\n",
    " 'EX_cl_e': 10,\n",
    " 'EX_cobalt2_e': 10,\n",
    " 'EX_cu2_e': 10,\n",
    " 'EX_fe2_e': 10,\n",
    " 'EX_fe3_e': 10,\n",
    " 'EX_k_e': 10,\n",
    " 'EX_mg2_e': 10,\n",
    " 'EX_mn2_e': 10,\n",
    " 'EX_mobd_e': 10,\n",
    " 'EX_ni2_e': 10,\n",
    " 'EX_o2_e': 10,\n",
    " 'EX_pi_e': 10,\n",
    " 'EX_so4_e': 10,\n",
    " 'EX_zn2_e': 10,\n",
    " 'EX_nh4_e': 10,\n",
    " 'EX_lcts_e': 10}\n",
    "lactose_met_medium = lactose_medium.copy()\n",
    "lactose_met_medium[\"EX_met__L_e\"] = 10\n",
    "E_WT.medium = lactose_medium\n",
    "E0.medium = lactose_medium\n",
    "print(f\"E_WT growth on lac - met = {E_WT.slim_optimize(0)}\")\n",
    "print(f\"E0 growth on lac - met = {E0.slim_optimize(0)}\")\n",
    "E_WT.medium = lactose_met_medium\n",
    "E0.medium = lactose_met_medium\n",
    "print(f\"E_WT growth on lac + met = {E_WT.slim_optimize(0)}\")\n",
    "print(f\"E0 growth on lac + met = {E0.slim_optimize(0)}\")"
   ]
  },
  {
   "cell_type": "markdown",
   "metadata": {},
   "source": [
    "# Making S0\n",
    "\n",
    "This has two steps. First, we need to force S0 to make 0.5mmol of methionine (extracellular) for each gram of growth, by altering the biomass reaction. Then, we need to make methionine transport unidirectional, so that S0 doesn't consume the methionine as it produces it."
   ]
  },
  {
   "cell_type": "code",
   "execution_count": 23,
   "metadata": {},
   "outputs": [],
   "source": [
    "S0 = S_WT.copy()\n",
    "# get the metabolites\n",
    "met_c = S0.metabolites.met__L_c\n",
    "met_e = S0.metabolites.met__L_e\n",
    "# force 0.5 mmol of met_e production for each gram of growth\n",
    "biomass = S0.reactions.BIOMASS_iRR1083_metals.add_metabolites({met_c : -.5,\n",
    "                                                             met_e : .5})\n",
    "# make methionine transport export-only\n",
    "S0.reactions.METtex.upper_bound = 0"
   ]
  },
  {
   "cell_type": "code",
   "execution_count": 24,
   "metadata": {},
   "outputs": [],
   "source": [
    "ac_medium = {'EX_ca2_e': 10,\n",
    " 'EX_cl_e': 10,\n",
    " 'EX_cobalt2_e': 10,\n",
    " 'EX_cu2_e': 10,\n",
    " 'EX_fe2_e': 10,\n",
    " 'EX_fe3_e': 10,\n",
    " 'EX_k_e': 10,\n",
    " 'EX_mg2_e': 10,\n",
    " 'EX_mn2_e': 10,\n",
    " 'EX_mobd_e': 10,\n",
    " 'EX_ni2_e': 10,\n",
    " 'EX_o2_e': 10,\n",
    " 'EX_pi_e': 10,\n",
    " 'EX_so4_e': 10,\n",
    " 'EX_zn2_e': 10,\n",
    " 'EX_nh4_e': 10,\n",
    " 'EX_ac_e': 10}"
   ]
  },
  {
   "cell_type": "markdown",
   "metadata": {},
   "source": [
    "# Examine secretion of S_WT vs. S0 on acetate medium:"
   ]
  },
  {
   "cell_type": "code",
   "execution_count": 40,
   "metadata": {},
   "outputs": [
    {
     "name": "stdout",
     "output_type": "stream",
     "text": [
      "S_WT growth on ac = 0.08543749636964598 /hr\n",
      "S0 growth on ac = 0.0776944706105925 /hr\n",
      "S_WT methionine production during growth = 0.0 mmol\n",
      "S0 methionine production during growth = 0.03884723530529624 mmol\n"
     ]
    }
   ],
   "source": [
    "S_WT.medium = ac_medium\n",
    "S0.medium = ac_medium\n",
    "sol_WT = S_WT.optimize()\n",
    "sol_S0 = S0.optimize()\n",
    "print(f\"S_WT growth on ac = {sol_WT.objective_value} /hr\")\n",
    "print(f\"S0 growth on ac = {sol_S0.objective_value} /hr\")\n",
    "print(f\"S_WT methionine production during growth = {sol_WT.fluxes['EX_met__L_e']} mmol\")\n",
    "print(f\"S0 methionine production during growth = {sol_S0.fluxes['EX_met__L_e']} mmol\")"
   ]
  },
  {
   "cell_type": "markdown",
   "metadata": {},
   "source": [
    "# Making M0. \n",
    "\n",
    "The only change we need to make is to match the suffixes (from \\[e] to _e)"
   ]
  },
  {
   "cell_type": "code",
   "execution_count": 41,
   "metadata": {},
   "outputs": [],
   "source": [
    "M0 = cobra.io.read_sbml_model(\"./models/jmc_AM1_KO.xml\")"
   ]
  },
  {
   "cell_type": "code",
   "execution_count": 53,
   "metadata": {},
   "outputs": [],
   "source": [
    "for met in M0.metabolites:\n",
    "    new_met = met.id.replace(\"[e]\", \"_e\")\n",
    "    met.id = new_met\n",
    "for ex in M0.exchanges:\n",
    "    new_id = ex.id.replace(\"[e]\", \"_e\")\n",
    "    new_id = new_id.replace(\"-\", \"__\")\n",
    "    if new_id[-2:] != \"_e\":\n",
    "        new_id += \"_e\"\n",
    "    ex.id = new_id\n",
    "M0.repair()"
   ]
  },
  {
   "cell_type": "code",
   "execution_count": 61,
   "metadata": {},
   "outputs": [],
   "source": [
    "M0.medium = {key : val for key, val in ac_medium.items() if key in [e.id for e in M0.exchanges]}\n",
    "M0.exchanges.EX_mea_e.lower_bound = -10"
   ]
  },
  {
   "cell_type": "code",
   "execution_count": 63,
   "metadata": {},
   "outputs": [
    {
     "data": {
      "text/html": [
       "<h3>Objective</h3><p>1.0 BIO2b_Mex = 0.3012921578709438</p><h4>Uptake</h4><table border=\"1\" class=\"dataframe\">\n",
       "  <thead>\n",
       "    <tr style=\"text-align: right;\">\n",
       "      <th>Metabolite</th>\n",
       "      <th>Reaction</th>\n",
       "      <th>Flux</th>\n",
       "      <th>C-Number</th>\n",
       "      <th>C-Flux</th>\n",
       "    </tr>\n",
       "  </thead>\n",
       "  <tbody>\n",
       "    <tr>\n",
       "      <td>ac_e</td>\n",
       "      <td>EX_ac_e</td>\n",
       "      <td>8.45</td>\n",
       "      <td>0</td>\n",
       "      <td>0.00%</td>\n",
       "    </tr>\n",
       "    <tr>\n",
       "      <td>ca2_e</td>\n",
       "      <td>EX_ca2_e</td>\n",
       "      <td>6.324E-05</td>\n",
       "      <td>0</td>\n",
       "      <td>0.00%</td>\n",
       "    </tr>\n",
       "    <tr>\n",
       "      <td>cl_e</td>\n",
       "      <td>EX_cl_e</td>\n",
       "      <td>6.324E-05</td>\n",
       "      <td>0</td>\n",
       "      <td>0.00%</td>\n",
       "    </tr>\n",
       "    <tr>\n",
       "      <td>cobalt2_e</td>\n",
       "      <td>EX_cobalt2_e</td>\n",
       "      <td>4.216E-05</td>\n",
       "      <td>0</td>\n",
       "      <td>0.00%</td>\n",
       "    </tr>\n",
       "    <tr>\n",
       "      <td>fe2_e</td>\n",
       "      <td>EX_fe2_e</td>\n",
       "      <td>9.784E-05</td>\n",
       "      <td>0</td>\n",
       "      <td>0.00%</td>\n",
       "    </tr>\n",
       "    <tr>\n",
       "      <td>fe3_e</td>\n",
       "      <td>EX_fe3_e</td>\n",
       "      <td>9.486E-05</td>\n",
       "      <td>0</td>\n",
       "      <td>0.00%</td>\n",
       "    </tr>\n",
       "    <tr>\n",
       "      <td>k_e</td>\n",
       "      <td>EX_k_e</td>\n",
       "      <td>0.002371</td>\n",
       "      <td>0</td>\n",
       "      <td>0.00%</td>\n",
       "    </tr>\n",
       "    <tr>\n",
       "      <td>mea_e</td>\n",
       "      <td>EX_mea_e</td>\n",
       "      <td>6.752</td>\n",
       "      <td>0</td>\n",
       "      <td>0.00%</td>\n",
       "    </tr>\n",
       "    <tr>\n",
       "      <td>mg2_e</td>\n",
       "      <td>EX_mg2_e</td>\n",
       "      <td>0.0001054</td>\n",
       "      <td>0</td>\n",
       "      <td>0.00%</td>\n",
       "    </tr>\n",
       "    <tr>\n",
       "      <td>mn2_e</td>\n",
       "      <td>EX_mn2_e</td>\n",
       "      <td>4.216E-05</td>\n",
       "      <td>0</td>\n",
       "      <td>0.00%</td>\n",
       "    </tr>\n",
       "    <tr>\n",
       "      <td>mobd_e</td>\n",
       "      <td>EX_mobd_e</td>\n",
       "      <td>4.216E-05</td>\n",
       "      <td>0</td>\n",
       "      <td>0.00%</td>\n",
       "    </tr>\n",
       "    <tr>\n",
       "      <td>o2_e</td>\n",
       "      <td>EX_o2_e</td>\n",
       "      <td>10</td>\n",
       "      <td>0</td>\n",
       "      <td>0.00%</td>\n",
       "    </tr>\n",
       "    <tr>\n",
       "      <td>pi_e</td>\n",
       "      <td>EX_pi_e</td>\n",
       "      <td>0.1248</td>\n",
       "      <td>0</td>\n",
       "      <td>0.00%</td>\n",
       "    </tr>\n",
       "    <tr>\n",
       "      <td>so4_e</td>\n",
       "      <td>EX_so4_e</td>\n",
       "      <td>0.03606</td>\n",
       "      <td>0</td>\n",
       "      <td>0.00%</td>\n",
       "    </tr>\n",
       "  </tbody>\n",
       "</table><h4>Secretion</h4><table border=\"1\" class=\"dataframe\">\n",
       "  <thead>\n",
       "    <tr style=\"text-align: right;\">\n",
       "      <th>Metabolite</th>\n",
       "      <th>Reaction</th>\n",
       "      <th>Flux</th>\n",
       "      <th>C-Number</th>\n",
       "      <th>C-Flux</th>\n",
       "    </tr>\n",
       "  </thead>\n",
       "  <tbody>\n",
       "    <tr>\n",
       "      <td>co2_e</td>\n",
       "      <td>EX_co2_e</td>\n",
       "      <td>-8.062</td>\n",
       "      <td>0</td>\n",
       "      <td>0.00%</td>\n",
       "    </tr>\n",
       "    <tr>\n",
       "      <td>for_e</td>\n",
       "      <td>EX_for_e</td>\n",
       "      <td>-1.413</td>\n",
       "      <td>0</td>\n",
       "      <td>0.00%</td>\n",
       "    </tr>\n",
       "    <tr>\n",
       "      <td>nh4_e</td>\n",
       "      <td>EX_nh4_e</td>\n",
       "      <td>-5</td>\n",
       "      <td>0</td>\n",
       "      <td>0.00%</td>\n",
       "    </tr>\n",
       "    <tr>\n",
       "      <td>oh1_e</td>\n",
       "      <td>EX_oh1_e</td>\n",
       "      <td>-13.49</td>\n",
       "      <td>0</td>\n",
       "      <td>0.00%</td>\n",
       "    </tr>\n",
       "  </tbody>\n",
       "</table>"
      ],
      "text/plain": [
       "<cobra.summary.model_summary.ModelSummary at 0x7f168d0befd0>"
      ]
     },
     "execution_count": 63,
     "metadata": {},
     "output_type": "execute_result"
    }
   ],
   "source": [
    "M0.summary()"
   ]
  },
  {
   "cell_type": "code",
   "execution_count": 64,
   "metadata": {},
   "outputs": [],
   "source": [
    "cobra.io.write_sbml_model(M0, \"./models/jmc_AM1_KO_renamed.xml\")"
   ]
  },
  {
   "cell_type": "code",
   "execution_count": 65,
   "metadata": {},
   "outputs": [],
   "source": [
    "M0 = cobra.io.read_sbml_model(\"./models/jmc_AM1_KO_renamed.xml\")"
   ]
  },
  {
   "cell_type": "code",
   "execution_count": 66,
   "metadata": {},
   "outputs": [
    {
     "data": {
      "text/html": [
       "<h3>Objective</h3><p>1.0 BIO2b_Mex = 0.30129215787278485</p><h4>Uptake</h4><table border=\"1\" class=\"dataframe\">\n",
       "  <thead>\n",
       "    <tr style=\"text-align: right;\">\n",
       "      <th>Metabolite</th>\n",
       "      <th>Reaction</th>\n",
       "      <th>Flux</th>\n",
       "      <th>C-Number</th>\n",
       "      <th>C-Flux</th>\n",
       "    </tr>\n",
       "  </thead>\n",
       "  <tbody>\n",
       "    <tr>\n",
       "      <td>ac_e</td>\n",
       "      <td>EX_ac_e</td>\n",
       "      <td>8.45</td>\n",
       "      <td>0</td>\n",
       "      <td>0.00%</td>\n",
       "    </tr>\n",
       "    <tr>\n",
       "      <td>ca2_e</td>\n",
       "      <td>EX_ca2_e</td>\n",
       "      <td>6.324E-05</td>\n",
       "      <td>0</td>\n",
       "      <td>0.00%</td>\n",
       "    </tr>\n",
       "    <tr>\n",
       "      <td>cl_e</td>\n",
       "      <td>EX_cl_e</td>\n",
       "      <td>6.324E-05</td>\n",
       "      <td>0</td>\n",
       "      <td>0.00%</td>\n",
       "    </tr>\n",
       "    <tr>\n",
       "      <td>cobalt2_e</td>\n",
       "      <td>EX_cobalt2_e</td>\n",
       "      <td>4.216E-05</td>\n",
       "      <td>0</td>\n",
       "      <td>0.00%</td>\n",
       "    </tr>\n",
       "    <tr>\n",
       "      <td>fe2_e</td>\n",
       "      <td>EX_fe2_e</td>\n",
       "      <td>9.784E-05</td>\n",
       "      <td>0</td>\n",
       "      <td>0.00%</td>\n",
       "    </tr>\n",
       "    <tr>\n",
       "      <td>fe3_e</td>\n",
       "      <td>EX_fe3_e</td>\n",
       "      <td>9.486E-05</td>\n",
       "      <td>0</td>\n",
       "      <td>0.00%</td>\n",
       "    </tr>\n",
       "    <tr>\n",
       "      <td>k_e</td>\n",
       "      <td>EX_k_e</td>\n",
       "      <td>0.002371</td>\n",
       "      <td>0</td>\n",
       "      <td>0.00%</td>\n",
       "    </tr>\n",
       "    <tr>\n",
       "      <td>mea_e</td>\n",
       "      <td>EX_mea_e</td>\n",
       "      <td>6.752</td>\n",
       "      <td>0</td>\n",
       "      <td>0.00%</td>\n",
       "    </tr>\n",
       "    <tr>\n",
       "      <td>mg2_e</td>\n",
       "      <td>EX_mg2_e</td>\n",
       "      <td>0.0001054</td>\n",
       "      <td>0</td>\n",
       "      <td>0.00%</td>\n",
       "    </tr>\n",
       "    <tr>\n",
       "      <td>mn2_e</td>\n",
       "      <td>EX_mn2_e</td>\n",
       "      <td>4.216E-05</td>\n",
       "      <td>0</td>\n",
       "      <td>0.00%</td>\n",
       "    </tr>\n",
       "    <tr>\n",
       "      <td>mobd_e</td>\n",
       "      <td>EX_mobd_e</td>\n",
       "      <td>4.216E-05</td>\n",
       "      <td>0</td>\n",
       "      <td>0.00%</td>\n",
       "    </tr>\n",
       "    <tr>\n",
       "      <td>o2_e</td>\n",
       "      <td>EX_o2_e</td>\n",
       "      <td>10</td>\n",
       "      <td>0</td>\n",
       "      <td>0.00%</td>\n",
       "    </tr>\n",
       "    <tr>\n",
       "      <td>pi_e</td>\n",
       "      <td>EX_pi_e</td>\n",
       "      <td>0.1248</td>\n",
       "      <td>0</td>\n",
       "      <td>0.00%</td>\n",
       "    </tr>\n",
       "    <tr>\n",
       "      <td>so4_e</td>\n",
       "      <td>EX_so4_e</td>\n",
       "      <td>0.03606</td>\n",
       "      <td>0</td>\n",
       "      <td>0.00%</td>\n",
       "    </tr>\n",
       "  </tbody>\n",
       "</table><h4>Secretion</h4><table border=\"1\" class=\"dataframe\">\n",
       "  <thead>\n",
       "    <tr style=\"text-align: right;\">\n",
       "      <th>Metabolite</th>\n",
       "      <th>Reaction</th>\n",
       "      <th>Flux</th>\n",
       "      <th>C-Number</th>\n",
       "      <th>C-Flux</th>\n",
       "    </tr>\n",
       "  </thead>\n",
       "  <tbody>\n",
       "    <tr>\n",
       "      <td>co2_e</td>\n",
       "      <td>EX_co2_e</td>\n",
       "      <td>-8.062</td>\n",
       "      <td>0</td>\n",
       "      <td>0.00%</td>\n",
       "    </tr>\n",
       "    <tr>\n",
       "      <td>for_e</td>\n",
       "      <td>EX_for_e</td>\n",
       "      <td>-1.413</td>\n",
       "      <td>0</td>\n",
       "      <td>0.00%</td>\n",
       "    </tr>\n",
       "    <tr>\n",
       "      <td>nh4_e</td>\n",
       "      <td>EX_nh4_e</td>\n",
       "      <td>-5</td>\n",
       "      <td>0</td>\n",
       "      <td>0.00%</td>\n",
       "    </tr>\n",
       "    <tr>\n",
       "      <td>oh1_e</td>\n",
       "      <td>EX_oh1_e</td>\n",
       "      <td>-13.49</td>\n",
       "      <td>0</td>\n",
       "      <td>0.00%</td>\n",
       "    </tr>\n",
       "  </tbody>\n",
       "</table>"
      ],
      "text/plain": [
       "<cobra.summary.model_summary.ModelSummary at 0x7f168d66da60>"
      ]
     },
     "execution_count": 66,
     "metadata": {},
     "output_type": "execute_result"
    }
   ],
   "source": [
    "M0.summary()"
   ]
  },
  {
   "cell_type": "markdown",
   "metadata": {},
   "source": [
    "# Now lets run a mutualism simulation:"
   ]
  },
  {
   "cell_type": "code",
   "execution_count": 67,
   "metadata": {},
   "outputs": [],
   "source": [
    "E = c.model(E0)\n",
    "S = c.model(S0)\n",
    "M = c.model(M0)\n",
    "E.open_exchanges()\n",
    "S.open_exchanges()\n",
    "M.open_exchanges()"
   ]
  },
  {
   "cell_type": "code",
   "execution_count": 68,
   "metadata": {},
   "outputs": [],
   "source": [
    "E.initial_pop = [0, 0, 1.e-8]\n",
    "S.initial_pop = [0, 0, 1.e-8]\n",
    "M.initial_pop = [0, 0, 1.e-8]\n",
    "E.obj_style = \"MAXIMIZE_OBJECTIVE_FLUX\"\n",
    "S.obj_style =  \"MAXIMIZE_OBJECTIVE_FLUX\"\n",
    "M.obj_style =  \"MAXIMIZE_OBJECTIVE_FLUX\""
   ]
  },
  {
   "cell_type": "code",
   "execution_count": 70,
   "metadata": {},
   "outputs": [],
   "source": [
    "l = c.layout([E,S,M])\n",
    "base_nutrients = [\"ca2_e\", \"cl_e\", \"cobalt2_e\", \"cu2_e\",\"fe2_e\", \"fe3_e\", \"k_e\",\"mg2_e\",\n",
    "                  \"mn2_e\", \"mobd_e\", \"ni2_e\", \"o2_e\", \"pi_e\", \"so4_e\", \"zn2_e\"]\n",
    "for nutrient in base_nutrients:\n",
    "    l.set_specific_metabolite(nutrient, 1000)\n",
    "l.set_specific_metabolite(\"lcts_e\", 0.000278)\n",
    "l.set_specific_metabolite(\"mea_e\", 0.0015)"
   ]
  },
  {
   "cell_type": "code",
   "execution_count": 71,
   "metadata": {},
   "outputs": [],
   "source": [
    "p = c.params()\n",
    "p.set_param(\"defaultKm\", 0.00001) # M \n",
    "p.set_param(\"defaultVmax\", 10) #mmol/gDw/hr\n",
    "p.set_param(\"maxCycles\", 200)\n",
    "p.set_param(\"timeStep\", 1)"
   ]
  },
  {
   "cell_type": "code",
   "execution_count": 74,
   "metadata": {},
   "outputs": [
    {
     "name": "stdout",
     "output_type": "stream",
     "text": [
      "\n",
      "Running COMETS simulation ...\n",
      "Done!\n"
     ]
    }
   ],
   "source": [
    "sim = c.comets(l, p)\n",
    "sim.run()"
   ]
  },
  {
   "cell_type": "code",
   "execution_count": 75,
   "metadata": {},
   "outputs": [
    {
     "data": {
      "text/plain": [
       "<AxesSubplot:xlabel='cycle'>"
      ]
     },
     "execution_count": 75,
     "metadata": {},
     "output_type": "execute_result"
    },
    {
     "data": {
      "image/png": "[encoded data removed]",
      "text/plain": [
       "<Figure size 432x288 with 1 Axes>"
      ]
     },
     "metadata": {
      "needs_background": "light"
     },
     "output_type": "display_data"
    }
   ],
   "source": [
    "sim.total_biomass.plot(x = \"cycle\")"
   ]
  },
  {
   "cell_type": "code",
   "execution_count": null,
   "metadata": {},
   "outputs": [],
   "source": []
  }
 ],
 "metadata": {
  "kernelspec": {
   "display_name": "Python 3",
   "language": "python",
   "name": "python3"
  },
  "language_info": {
   "codemirror_mode": {
    "name": "ipython",
    "version": 3
   },
   "file_extension": ".py",
   "mimetype": "text/x-python",
   "name": "python",
   "nbconvert_exporter": "python",
   "pygments_lexer": "ipython3",
   "version": "3.6.10"
  }
 },
 "nbformat": 4,
 "nbformat_minor": 5
}
