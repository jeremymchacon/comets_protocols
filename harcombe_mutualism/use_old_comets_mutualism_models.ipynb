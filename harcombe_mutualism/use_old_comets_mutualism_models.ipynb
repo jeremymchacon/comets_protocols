{
 "cells": [
  {
   "cell_type": "code",
   "execution_count": 3,
   "metadata": {},
   "outputs": [],
   "source": [
    "import cobra\n",
    "import cobra.test\n",
    "import cometspy as c\n",
    "import os\n",
    "os.environ['GUROBI_COMETS_HOME'] = '/opt/gurobi952/linux64'"
   ]
  },
  {
   "cell_type": "markdown",
   "metadata": {},
   "source": [
    "## Use old models. \n",
    "\n",
    "The Harcombe et al. 2014 paper used slightly older models than are available now. These are included in the models folder, and can be read directly as COMETS models."
   ]
  },
  {
   "cell_type": "code",
   "execution_count": 4,
   "metadata": {},
   "outputs": [],
   "source": [
    "E = c.model()\n",
    "E.read_comets_model(\"./models/jmc_EC_iJO_KO.txt\")\n",
    "S = c.model()\n",
    "S.read_comets_model(\"./models/jmc_SalMet.txt\")\n",
    "M = c.model()\n",
    "M.read_comets_model(\"./models/jmc_AM1_KO.txt\")"
   ]
  },
  {
   "cell_type": "markdown",
   "metadata": {},
   "source": [
    "# sanity-check simulations\n",
    "\n",
    "We'll start with well-mixed simulations before doing spatial simulations. No species should grow alone, but they should all grow together. Rerun the next few chunks of code with different initial_pop values to see this. Note that in a community with E and M, M technically increases, but it is marginal. "
   ]
  },
  {
   "cell_type": "code",
   "execution_count": 5,
   "metadata": {},
   "outputs": [],
   "source": [
    "E.initial_pop = [0, 0, 1.e-8]\n",
    "S.initial_pop = [0, 0, 1.e-8]\n",
    "M.initial_pop = [0, 0, 1.e-8]\n",
    "E.open_exchanges()\n",
    "S.open_exchanges()\n",
    "M.open_exchanges()\n",
    "E.obj_style = \"MAXIMIZE_OBJECTIVE_FLUX\"\n",
    "S.obj_style =  \"MAXIMIZE_OBJECTIVE_FLUX\"\n",
    "M.obj_style =  \"MAXIMIZE_OBJECTIVE_FLUX\""
   ]
  },
  {
   "cell_type": "markdown",
   "metadata": {},
   "source": [
    "# make layout\n",
    "\n",
    "environmental information. \n",
    "\n",
    "Note that the media is the 3-species mutualism media. To make the 2-species (E, S) mutualism media, replace mea\\[e] with nh4[e]"
   ]
  },
  {
   "cell_type": "code",
   "execution_count": 19,
   "metadata": {},
   "outputs": [],
   "source": [
    "l = c.layout([E,S, M])\n",
    "base_nutrients = [\"ca2[e]\", \"cl[e]\", \"cobalt2[e]\", \"cu2[e]\",\"fe2[e]\", \"fe3[e]\", \"k[e]\",\"mg2[e]\",\n",
    "                  \"mn2[e]\", \"mobd[e]\", \"ni2[e]\", \"o2[e]\", \"pi[e]\", \"so4[e]\", \"zn2[e]\"]\n",
    "for nutrient in base_nutrients:\n",
    "    l.set_specific_metabolite(nutrient, 1000)\n",
    "l.set_specific_metabolite(\"lcts[e]\", 0.000278)\n",
    "l.set_specific_metabolite(\"mea[e]\", 0.0015)"
   ]
  },
  {
   "cell_type": "markdown",
   "metadata": {},
   "source": [
    "# make parameters\n",
    "\n",
    "mathematical parameters and datasaving parameters"
   ]
  },
  {
   "cell_type": "code",
   "execution_count": 20,
   "metadata": {},
   "outputs": [],
   "source": [
    "p = c.params()\n",
    "p.set_param(\"defaultKm\", 0.00001) # M \n",
    "p.set_param(\"defaultVmax\", 10) #mmol/gDw/hr\n",
    "p.set_param(\"maxCycles\", 200)\n",
    "p.set_param(\"timeStep\", 1)"
   ]
  },
  {
   "cell_type": "code",
   "execution_count": 21,
   "metadata": {},
   "outputs": [
    {
     "name": "stdout",
     "output_type": "stream",
     "text": [
      "\n",
      "Running COMETS simulation ...\n",
      "Done!\n"
     ]
    }
   ],
   "source": [
    "sim = c.comets(l, p)\n",
    "sim.run()"
   ]
  },
  {
   "cell_type": "code",
   "execution_count": 22,
   "metadata": {},
   "outputs": [
    {
     "data": {
      "text/plain": [
       "<AxesSubplot:xlabel='cycle'>"
      ]
     },
     "execution_count": 22,
     "metadata": {},
     "output_type": "execute_result"
    },
    {
     "data": {
      "image/png": "[encoded data removed]",
      "text/plain": [
       "<Figure size 432x288 with 1 Axes>"
      ]
     },
     "metadata": {
      "needs_background": "light"
     },
     "output_type": "display_data"
    }
   ],
   "source": [
    "sim.total_biomass.plot(x = \"cycle\")"
   ]
  },
  {
   "cell_type": "markdown",
   "metadata": {},
   "source": [
    "# Now remake the layout spatially. \n",
    "\n",
    "Note: if you want this to be exactly reproducible, set a seed.\n",
    "\n",
    "Note: the 3-species simulations used a 15x15 lattice grid, which is done below. The two-species simulations used a 25x25 lattice grid. See the paper for more details.\n",
    "\n",
    "In addition, for this demo, I'm only running 10 cycles, which should obviously be increased to reach saturation."
   ]
  },
  {
   "cell_type": "code",
   "execution_count": 23,
   "metadata": {},
   "outputs": [],
   "source": [
    "from cometspy import utils"
   ]
  },
  {
   "cell_type": "code",
   "execution_count": 24,
   "metadata": {},
   "outputs": [
    {
     "data": {
      "text/plain": [
       "[[9, 0, 3e-07],\n",
       " [14, 10, 3e-07],\n",
       " [9, 9, 3e-07],\n",
       " [0, 9, 3e-07],\n",
       " [13, 0, 3e-07],\n",
       " [4, 11, 3e-07],\n",
       " [5, 1, 3e-07],\n",
       " [1, 10, 3e-07],\n",
       " [12, 0, 3e-07],\n",
       " [12, 10, 3e-07],\n",
       " [3, 3, 3e-07],\n",
       " [14, 12, 3e-07],\n",
       " [4, 1, 3e-07],\n",
       " [13, 2, 3e-07],\n",
       " [9, 1, 3e-07],\n",
       " [5, 7, 3e-07]]"
      ]
     },
     "execution_count": 24,
     "metadata": {},
     "output_type": "execute_result"
    }
   ],
   "source": [
    "E_locs = utils.pick_random_locations(n = 16, xrange = [0,15], yrange = [0,15])\n",
    "S_locs = utils.pick_random_locations(n = 1, xrange = [0,15], yrange = [0,15])\n",
    "M_locs = utils.pick_random_locations(n = 83, xrange = [0,15], yrange = [0,15])\n",
    "\n",
    "E.initial_pop = [[xy[0], xy[1], 3.e-7] for xy in E_locs]\n",
    "S.initial_pop = [[xy[0], xy[1], 3.e-7] for xy in S_locs]\n",
    "M.initial_pop = [[xy[0], xy[1], 3.e-7] for xy in M_locs]\n",
    "\n",
    "# for example...\n",
    "E.initial_pop"
   ]
  },
  {
   "cell_type": "code",
   "execution_count": 25,
   "metadata": {},
   "outputs": [],
   "source": [
    "l = c.layout([E,S,M])\n",
    "l.grid = [15, 15]\n",
    "for nutrient in base_nutrients:\n",
    "    l.set_specific_metabolite(nutrient, 1000)\n",
    "l.set_specific_metabolite(\"lcts[e]\", 0.000278)\n",
    "l.set_specific_metabolite(\"mea[e]\", 0.0015)"
   ]
  },
  {
   "cell_type": "code",
   "execution_count": 30,
   "metadata": {},
   "outputs": [],
   "source": [
    "p = c.params()\n",
    "p.set_param(\"defaultKm\", 0.00001) # M \n",
    "p.set_param(\"defaultVmax\", 10) #mmol/gDw/hr\n",
    "p.set_param(\"maxCycles\", 96)\n",
    "p.set_param(\"timeStep\", 1) #hr\n",
    "\n",
    "p.set_param(\"spaceWidth\", 0.05) #cm\n",
    "p.set_param(\"defaultDiffConst\", 5.e-6) #cm2/s; metabolites\n",
    "p.set_param(\"flowDiffRate\", 3.e-9) #cm2/s; biomass"
   ]
  },
  {
   "cell_type": "markdown",
   "metadata": {},
   "source": [
    "# Note: I set the time step to 1 hour, and 96 cycles. This can take awhile on a laptop (30 min or so). In the actual paper, the time step was 0.1 hours, and therefore 960 cycles were used. This will take much longer."
   ]
  },
  {
   "cell_type": "code",
   "execution_count": 31,
   "metadata": {},
   "outputs": [
    {
     "name": "stdout",
     "output_type": "stream",
     "text": [
      "\n",
      "Running COMETS simulation ...\n",
      "Done!\n"
     ]
    },
    {
     "data": {
      "text/plain": [
       "<AxesSubplot:xlabel='cycle'>"
      ]
     },
     "execution_count": 31,
     "metadata": {},
     "output_type": "execute_result"
    },
    {
     "data": {
      "image/png": "[encoded data removed]",
      "text/plain": [
       "<Figure size 432x288 with 1 Axes>"
      ]
     },
     "metadata": {
      "needs_background": "light"
     },
     "output_type": "display_data"
    }
   ],
   "source": [
    "sim = c.comets(l, p)\n",
    "sim.run()\n",
    "sim.total_biomass.plot(x = \"cycle\")"
   ]
  },
  {
   "cell_type": "markdown",
   "metadata": {},
   "source": [
    "At this point, if you wished to do transfers like in the paper, repeat the simulation but with different values for n in pick_random_locations, which are based on the final frequency obtainable from total_biomass."
   ]
  },
  {
   "cell_type": "code",
   "execution_count": 80,
   "metadata": {},
   "outputs": [
    {
     "data": {
      "text/html": [
       "<div>\n",
       "<style scoped>\n",
       "    .dataframe tbody tr th:only-of-type {\n",
       "        vertical-align: middle;\n",
       "    }\n",
       "\n",
       "    .dataframe tbody tr th {\n",
       "        vertical-align: top;\n",
       "    }\n",
       "\n",
       "    .dataframe thead th {\n",
       "        text-align: right;\n",
       "    }\n",
       "</style>\n",
       "<table border=\"1\" class=\"dataframe\">\n",
       "  <thead>\n",
       "    <tr style=\"text-align: right;\">\n",
       "      <th></th>\n",
       "      <th>cycle</th>\n",
       "      <th>jmc_EC_iJO_KO</th>\n",
       "      <th>jmc_SalMet</th>\n",
       "      <th>jmc_AM1_KO</th>\n",
       "    </tr>\n",
       "  </thead>\n",
       "  <tbody>\n",
       "    <tr>\n",
       "      <th>0</th>\n",
       "      <td>0</td>\n",
       "      <td>0.000005</td>\n",
       "      <td>3.000000e-07</td>\n",
       "      <td>0.000025</td>\n",
       "    </tr>\n",
       "    <tr>\n",
       "      <th>1</th>\n",
       "      <td>1</td>\n",
       "      <td>0.000005</td>\n",
       "      <td>2.999669e-07</td>\n",
       "      <td>0.000025</td>\n",
       "    </tr>\n",
       "    <tr>\n",
       "      <th>2</th>\n",
       "      <td>2</td>\n",
       "      <td>0.000005</td>\n",
       "      <td>3.002711e-07</td>\n",
       "      <td>0.000025</td>\n",
       "    </tr>\n",
       "    <tr>\n",
       "      <th>3</th>\n",
       "      <td>3</td>\n",
       "      <td>0.000005</td>\n",
       "      <td>3.042804e-07</td>\n",
       "      <td>0.000025</td>\n",
       "    </tr>\n",
       "    <tr>\n",
       "      <th>4</th>\n",
       "      <td>4</td>\n",
       "      <td>0.000005</td>\n",
       "      <td>3.178171e-07</td>\n",
       "      <td>0.000026</td>\n",
       "    </tr>\n",
       "    <tr>\n",
       "      <th>...</th>\n",
       "      <td>...</td>\n",
       "      <td>...</td>\n",
       "      <td>...</td>\n",
       "      <td>...</td>\n",
       "    </tr>\n",
       "    <tr>\n",
       "      <th>92</th>\n",
       "      <td>92</td>\n",
       "      <td>0.002805</td>\n",
       "      <td>8.703458e-04</td>\n",
       "      <td>0.006373</td>\n",
       "    </tr>\n",
       "    <tr>\n",
       "      <th>93</th>\n",
       "      <td>93</td>\n",
       "      <td>0.002805</td>\n",
       "      <td>8.703457e-04</td>\n",
       "      <td>0.006373</td>\n",
       "    </tr>\n",
       "    <tr>\n",
       "      <th>94</th>\n",
       "      <td>94</td>\n",
       "      <td>0.002805</td>\n",
       "      <td>8.703457e-04</td>\n",
       "      <td>0.006373</td>\n",
       "    </tr>\n",
       "    <tr>\n",
       "      <th>95</th>\n",
       "      <td>95</td>\n",
       "      <td>0.002805</td>\n",
       "      <td>8.703456e-04</td>\n",
       "      <td>0.006373</td>\n",
       "    </tr>\n",
       "    <tr>\n",
       "      <th>96</th>\n",
       "      <td>96</td>\n",
       "      <td>0.002805</td>\n",
       "      <td>8.703454e-04</td>\n",
       "      <td>0.006373</td>\n",
       "    </tr>\n",
       "  </tbody>\n",
       "</table>\n",
       "<p>97 rows × 4 columns</p>\n",
       "</div>"
      ],
      "text/plain": [
       "    cycle  jmc_EC_iJO_KO    jmc_SalMet  jmc_AM1_KO\n",
       "0       0       0.000005  3.000000e-07    0.000025\n",
       "1       1       0.000005  2.999669e-07    0.000025\n",
       "2       2       0.000005  3.002711e-07    0.000025\n",
       "3       3       0.000005  3.042804e-07    0.000025\n",
       "4       4       0.000005  3.178171e-07    0.000026\n",
       "..    ...            ...           ...         ...\n",
       "92     92       0.002805  8.703458e-04    0.006373\n",
       "93     93       0.002805  8.703457e-04    0.006373\n",
       "94     94       0.002805  8.703457e-04    0.006373\n",
       "95     95       0.002805  8.703456e-04    0.006373\n",
       "96     96       0.002805  8.703454e-04    0.006373\n",
       "\n",
       "[97 rows x 4 columns]"
      ]
     },
     "execution_count": 80,
     "metadata": {},
     "output_type": "execute_result"
    }
   ],
   "source": [
    "sim.total_biomass"
   ]
  },
  {
   "cell_type": "code",
   "execution_count": null,
   "metadata": {},
   "outputs": [],
   "source": []
  }
 ],
 "metadata": {
  "kernelspec": {
   "display_name": "Python 3 (ipykernel)",
   "language": "python",
   "name": "python3"
  },
  "language_info": {
   "codemirror_mode": {
    "name": "ipython",
    "version": 3
   },
   "file_extension": ".py",
   "mimetype": "text/x-python",
   "name": "python",
   "nbconvert_exporter": "python",
   "pygments_lexer": "ipython3",
   "version": "3.8.12"
  }
 },
 "nbformat": 4,
 "nbformat_minor": 4
}
