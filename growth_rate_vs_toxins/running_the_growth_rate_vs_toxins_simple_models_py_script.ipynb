{
 "cells": [
  {
   "cell_type": "markdown",
   "metadata": {},
   "source": [
    "# this shows how one could run just one command line case of the toxin vs. growth rate sim\n",
    "\n",
    "## IMPORTANT: \n",
    "\n",
    "1. There is a \"base\" filepath in the python script which will absolutely need to be changed for the system in question, on line 51. There are other system-specific paths on line 11 and 258.  I have had better luck using fixed paths on MSI submissions than relative paths (./ or ~/)\n",
    "\n",
    "2. Right now, for testing purposes, the grid is 30x30--this should prob be more like 100x100 for the actual sims\n",
    "\n",
    "3. Similarly, for testing, right now 1 hour of simulation time is run. Change base_hours to 72 for a usual amount.\n",
    "\n",
    "\n",
    "If you don't understand what is going on here, check out using_python_scripts_from_commandline.ipyn (to learn how we run a python script from the command line) and growth_rate_vs_toxins_simple_models.ipynb (to play with the model)"
   ]
  },
  {
   "cell_type": "code",
   "execution_count": 18,
   "metadata": {},
   "outputs": [
    {
     "name": "stdout",
     "output_type": "stream",
     "text": [
      "20221101_random_locations_growthrate.py  sys_args_and_rep_to_parms.py\r\n",
      "growth_rate_vs_toxins_commandline.py\t toxin_and_media_functions.py\r\n",
      "RPS_simulations.py\r\n"
     ]
    }
   ],
   "source": [
    "!ls *.py"
   ]
  },
  {
   "cell_type": "code",
   "execution_count": 23,
   "metadata": {},
   "outputs": [
    {
     "name": "stdout",
     "output_type": "stream",
     "text": [
      "treatment # = 3\n",
      "rep = 2, spatial_seed = 0, growthrate = 0.25, space_width = 0.002\n",
      "base directory : /home/jeremy/Dropbox/work_related/harcombe_lab/comets_protocols/growth_rate_vs_toxins/rep_2_spatial.seed_0_growthrate_0.25_spacewidth_0.002/\n",
      "dt = 0.19999999999999998, max_cycles = 20\n",
      "Using license file /home/jeremy/gurobi.lic\n",
      "Academic license - for non-commercial use only\n",
      "\n",
      "Running COMETS simulation ...\n",
      "Done!\n"
     ]
    }
   ],
   "source": [
    "!python growth_rate_vs_toxins_commandline.py {2}"
   ]
  },
  {
   "cell_type": "code",
   "execution_count": 26,
   "metadata": {},
   "outputs": [
    {
     "name": "stdout",
     "output_type": "stream",
     "text": [
      "COMETS_manifest.txt  resistant.cmd\ttotalbiomasslog_0x7f22a95d1da0\r\n",
      "founder_locs.csv     susceptible.cmd\r\n",
      "producer.cmd\t     total.biomass.csv\r\n"
     ]
    }
   ],
   "source": [
    "!ls rep_2_spatial.seed_0_growthrate_0.25_spacewidth_0.002"
   ]
  },
  {
   "cell_type": "code",
   "execution_count": null,
   "metadata": {},
   "outputs": [],
   "source": []
  }
 ],
 "metadata": {
  "kernelspec": {
   "display_name": "Python 3",
   "language": "python",
   "name": "python3"
  },
  "language_info": {
   "codemirror_mode": {
    "name": "ipython",
    "version": 3
   },
   "file_extension": ".py",
   "mimetype": "text/x-python",
   "name": "python",
   "nbconvert_exporter": "python",
   "pygments_lexer": "ipython3",
   "version": "3.6.10"
  }
 },
 "nbformat": 4,
 "nbformat_minor": 4
}
