{
 "cells": [
  {
   "cell_type": "markdown",
   "metadata": {},
   "source": [
    "# This demonstrates how to do a spatial simulation with a susceptible, resistant, and producer strains, all using toy metabolic models, in COMETS."
   ]
  },
  {
   "cell_type": "code",
   "execution_count": 79,
   "metadata": {},
   "outputs": [],
   "source": [
    "import cometspy as c\n",
    "import cobra\n",
    "import random\n",
    "from cobra import Metabolite, Reaction, Model\n",
    "import pandas as pd\n",
    "import os\n",
    "os.environ['GUROBI_COMETS_HOME'] = '/opt/gurobi900/linux64'\n",
    "pd.set_option('display.max_rows', None) "
   ]
  },
  {
   "cell_type": "markdown",
   "metadata": {},
   "source": [
    "# Build the toy models. I'm putting the function I use here for visibility, although usually I keep it in a separate file which I import."
   ]
  },
  {
   "cell_type": "code",
   "execution_count": 28,
   "metadata": {},
   "outputs": [],
   "source": [
    "def make_RPS_cobra_models_biomass_cost(growth_rate = 1., toxin_cost = 0.02, resistance_cost = 0.0, toxin_prod = 1.):\n",
    "    # this is different from make RPS cobra models because the toxin and resistance cost is put into the\n",
    "    # biomass reaction, rather than a separate reaction. this is important because toxins will only\n",
    "    # be created during growth.also, no need to multiply costs by growth rate. in all cases, they\n",
    "    # vary directly with growth rate. finally, in all cases as much toxin is produced as carbon is taken\n",
    "    # up, regardless of growth rate.\n",
    "    #\n",
    "    # These toy models use \"carbon_c\" to grow--that is the only resource\n",
    "    #\n",
    "    # the toxin is called \"toxin_e\"\n",
    "    '''\n",
    "    @toxin_prod:  a multiplier.  the multiple of mmol of toxin made per gram of carbon taken up\n",
    "    '''\n",
    "    carbon_e = Metabolite(id = \"carbon_e\",\n",
    "               compartment = \"e\")\n",
    "    carbon_c = Metabolite(id = \"carbon_c\",\n",
    "                   compartment = \"c\")\n",
    "    EX_carbon_e = Reaction(id = \"EX_carbon_e\",\n",
    "                      lower_bound = -growth_rate, # growth rate\n",
    "                      upper_bound = 1000.)\n",
    "    EX_carbon_e.add_metabolites({carbon_e: -1})\n",
    "    carbon_transfer = Reaction(id = \"carbon_transfer\",\n",
    "                          lower_bound = 0.,\n",
    "                          upper_bound = 1000.)\n",
    "    carbon_transfer.add_metabolites({carbon_e: -1,\n",
    "                                carbon_c: 1})\n",
    "    Biomass = Reaction(id = \"Biomass\",\n",
    "                  lower_bound = 0.,\n",
    "                  upper_bound = 1000.)\n",
    "    Biomass.add_metabolites({carbon_c: -1.})\n",
    "    # make the toxicity-related metabolites and reactions\n",
    "    toxin_c = Metabolite(id = \"toxin_c\", compartment = \"c\")\n",
    "    toxin_e = Metabolite(id = \"toxin_e\", compartment = \"e\")\n",
    "\n",
    "    EX_toxin_e = Reaction(id = \"EX_toxin_e\",\n",
    "                         lower_bound = -1000.,\n",
    "                         upper_bound = 1000.)\n",
    "    EX_toxin_e.add_metabolites({toxin_e: -1})\n",
    "\n",
    "    toxin_transfer = Reaction(id = \"toxin_transfer\",\n",
    "                             lower_bound = -1000.,\n",
    "                             upper_bound = 0.)\n",
    "    toxin_transfer.add_metabolites({toxin_e: -1,\n",
    "                                   toxin_c: 1})\n",
    "\n",
    "    Biomass_producer = Reaction(id = \"Biomass\",\n",
    "                  lower_bound = 0.,\n",
    "                  upper_bound = 1000.)\n",
    "    Biomass_producer.add_metabolites({carbon_c: -(1. + toxin_cost + resistance_cost),\n",
    "                                     toxin_c: toxin_prod * (1. + toxin_cost + resistance_cost)})\n",
    "\n",
    "    Biomass_resistant = Reaction(id = \"Biomass\",\n",
    "                  lower_bound = 0.,\n",
    "                  upper_bound = 1000.)\n",
    "    Biomass_resistant.add_metabolites({carbon_c: -(1. + resistance_cost)})\n",
    "\n",
    "    producer = Model(\"producer\")\n",
    "    producer.add_reactions([EX_carbon_e, carbon_transfer, Biomass_producer,\n",
    "                        EX_toxin_e, toxin_transfer])\n",
    "    producer.objective = Biomass_producer\n",
    "\n",
    "    resistant = Model(\"resistant\")\n",
    "    resistant.add_reactions([EX_carbon_e, carbon_transfer, Biomass_resistant])\n",
    "    resistant.objective = Biomass_resistant\n",
    "\n",
    "    susceptible = Model(\"susceptible\")\n",
    "    susceptible.add_reactions([EX_carbon_e, carbon_transfer, Biomass,\n",
    "                        EX_toxin_e])\n",
    "    susceptible.objective = Biomass\n",
    "    return((producer, resistant, susceptible))"
   ]
  },
  {
   "cell_type": "code",
   "execution_count": 37,
   "metadata": {},
   "outputs": [],
   "source": [
    "growth_rate = 0.75\n",
    "\n",
    "producer, resistant, susceptible = make_RPS_cobra_models_biomass_cost(growth_rate = growth_rate, toxin_cost = 0.02)"
   ]
  },
  {
   "cell_type": "code",
   "execution_count": 38,
   "metadata": {},
   "outputs": [
    {
     "data": {
      "text/html": [
       "<div>\n",
       "<style scoped>\n",
       "    .dataframe tbody tr th:only-of-type {\n",
       "        vertical-align: middle;\n",
       "    }\n",
       "\n",
       "    .dataframe tbody tr th {\n",
       "        vertical-align: top;\n",
       "    }\n",
       "\n",
       "    .dataframe thead tr th {\n",
       "        text-align: left;\n",
       "    }\n",
       "</style>\n",
       "<table border=\"1\" class=\"dataframe\">\n",
       "  <thead>\n",
       "    <tr>\n",
       "      <th></th>\n",
       "      <th colspan=\"2\" halign=\"left\">IN_FLUXES</th>\n",
       "      <th colspan=\"2\" halign=\"left\">OUT_FLUXES</th>\n",
       "      <th colspan=\"2\" halign=\"left\">OBJECTIVES</th>\n",
       "    </tr>\n",
       "    <tr>\n",
       "      <th></th>\n",
       "      <th>ID</th>\n",
       "      <th>FLUX</th>\n",
       "      <th>ID</th>\n",
       "      <th>FLUX</th>\n",
       "      <th>ID</th>\n",
       "      <th>FLUX</th>\n",
       "    </tr>\n",
       "  </thead>\n",
       "  <tbody>\n",
       "    <tr>\n",
       "      <th>0</th>\n",
       "      <td>carbon_e</td>\n",
       "      <td>0.75</td>\n",
       "      <td>toxin_e</td>\n",
       "      <td>0.75</td>\n",
       "      <td>Biomass</td>\n",
       "      <td>0.735294</td>\n",
       "    </tr>\n",
       "  </tbody>\n",
       "</table>\n",
       "</div>"
      ],
      "text/plain": [
       "<cobra.core.summary.model_summary.ModelSummary at 0x7f43ab7bbf60>"
      ]
     },
     "execution_count": 38,
     "metadata": {},
     "output_type": "execute_result"
    }
   ],
   "source": [
    "producer.summary()"
   ]
  },
  {
   "cell_type": "code",
   "execution_count": 39,
   "metadata": {},
   "outputs": [
    {
     "data": {
      "text/html": [
       "<div>\n",
       "<style scoped>\n",
       "    .dataframe tbody tr th:only-of-type {\n",
       "        vertical-align: middle;\n",
       "    }\n",
       "\n",
       "    .dataframe tbody tr th {\n",
       "        vertical-align: top;\n",
       "    }\n",
       "\n",
       "    .dataframe thead tr th {\n",
       "        text-align: left;\n",
       "    }\n",
       "</style>\n",
       "<table border=\"1\" class=\"dataframe\">\n",
       "  <thead>\n",
       "    <tr>\n",
       "      <th></th>\n",
       "      <th colspan=\"2\" halign=\"left\">IN_FLUXES</th>\n",
       "      <th colspan=\"2\" halign=\"left\">OUT_FLUXES</th>\n",
       "      <th colspan=\"2\" halign=\"left\">OBJECTIVES</th>\n",
       "    </tr>\n",
       "    <tr>\n",
       "      <th></th>\n",
       "      <th>ID</th>\n",
       "      <th>FLUX</th>\n",
       "      <th>ID</th>\n",
       "      <th>FLUX</th>\n",
       "      <th>ID</th>\n",
       "      <th>FLUX</th>\n",
       "    </tr>\n",
       "  </thead>\n",
       "  <tbody>\n",
       "    <tr>\n",
       "      <th>0</th>\n",
       "      <td>carbon_e</td>\n",
       "      <td>0.75</td>\n",
       "      <td>NaN</td>\n",
       "      <td>NaN</td>\n",
       "      <td>Biomass</td>\n",
       "      <td>0.75</td>\n",
       "    </tr>\n",
       "  </tbody>\n",
       "</table>\n",
       "</div>"
      ],
      "text/plain": [
       "<cobra.core.summary.model_summary.ModelSummary at 0x7f43ab7bb048>"
      ]
     },
     "execution_count": 39,
     "metadata": {},
     "output_type": "execute_result"
    }
   ],
   "source": [
    "susceptible.summary()"
   ]
  },
  {
   "cell_type": "code",
   "execution_count": 40,
   "metadata": {},
   "outputs": [
    {
     "data": {
      "text/html": [
       "<div>\n",
       "<style scoped>\n",
       "    .dataframe tbody tr th:only-of-type {\n",
       "        vertical-align: middle;\n",
       "    }\n",
       "\n",
       "    .dataframe tbody tr th {\n",
       "        vertical-align: top;\n",
       "    }\n",
       "\n",
       "    .dataframe thead tr th {\n",
       "        text-align: left;\n",
       "    }\n",
       "</style>\n",
       "<table border=\"1\" class=\"dataframe\">\n",
       "  <thead>\n",
       "    <tr>\n",
       "      <th></th>\n",
       "      <th colspan=\"2\" halign=\"left\">IN_FLUXES</th>\n",
       "      <th colspan=\"2\" halign=\"left\">OUT_FLUXES</th>\n",
       "      <th colspan=\"2\" halign=\"left\">OBJECTIVES</th>\n",
       "    </tr>\n",
       "    <tr>\n",
       "      <th></th>\n",
       "      <th>ID</th>\n",
       "      <th>FLUX</th>\n",
       "      <th>ID</th>\n",
       "      <th>FLUX</th>\n",
       "      <th>ID</th>\n",
       "      <th>FLUX</th>\n",
       "    </tr>\n",
       "  </thead>\n",
       "  <tbody>\n",
       "    <tr>\n",
       "      <th>0</th>\n",
       "      <td>carbon_e</td>\n",
       "      <td>0.75</td>\n",
       "      <td>NaN</td>\n",
       "      <td>NaN</td>\n",
       "      <td>Biomass</td>\n",
       "      <td>0.75</td>\n",
       "    </tr>\n",
       "  </tbody>\n",
       "</table>\n",
       "</div>"
      ],
      "text/plain": [
       "<cobra.core.summary.model_summary.ModelSummary at 0x7f43aba38c50>"
      ]
     },
     "execution_count": 40,
     "metadata": {},
     "output_type": "execute_result"
    }
   ],
   "source": [
    "resistant.summary()"
   ]
  },
  {
   "cell_type": "markdown",
   "metadata": {},
   "source": [
    "# Now make the COMETS models from these, and add a signal to the susceptible which linearly reduces growth rate until the toxin concentration = 1M, when the growth ceases altogether."
   ]
  },
  {
   "cell_type": "code",
   "execution_count": 41,
   "metadata": {},
   "outputs": [],
   "source": [
    "P = c.model(producer)\n",
    "R = c.model(resistant)\n",
    "S = c.model(susceptible)\n",
    "\n",
    "P.obj_style = \"MAX_OBJECTIVE_MIN_TOTAL\"\n",
    "R.obj_style = \"MAX_OBJECTIVE_MIN_TOTAL\"\n",
    "S.obj_style = \"MAX_OBJECTIVE_MIN_TOTAL\"\n"
   ]
  },
  {
   "cell_type": "markdown",
   "metadata": {},
   "source": [
    "# Note that comets erroneously assumes the biomass equation is an exchange in the susceptible and resistant, because it is unbalanced. So we fix that first"
   ]
  },
  {
   "cell_type": "code",
   "execution_count": 42,
   "metadata": {},
   "outputs": [
    {
     "data": {
      "text/html": [
       "<div>\n",
       "<style scoped>\n",
       "    .dataframe tbody tr th:only-of-type {\n",
       "        vertical-align: middle;\n",
       "    }\n",
       "\n",
       "    .dataframe tbody tr th {\n",
       "        vertical-align: top;\n",
       "    }\n",
       "\n",
       "    .dataframe thead th {\n",
       "        text-align: right;\n",
       "    }\n",
       "</style>\n",
       "<table border=\"1\" class=\"dataframe\">\n",
       "  <thead>\n",
       "    <tr style=\"text-align: right;\">\n",
       "      <th></th>\n",
       "      <th>REACTION_NAMES</th>\n",
       "      <th>ID</th>\n",
       "      <th>LB</th>\n",
       "      <th>UB</th>\n",
       "      <th>EXCH</th>\n",
       "      <th>EXCH_IND</th>\n",
       "      <th>V_MAX</th>\n",
       "      <th>KM</th>\n",
       "      <th>HILL</th>\n",
       "    </tr>\n",
       "  </thead>\n",
       "  <tbody>\n",
       "    <tr>\n",
       "      <th>0</th>\n",
       "      <td>EX_carbon_e</td>\n",
       "      <td>1</td>\n",
       "      <td>-0.75</td>\n",
       "      <td>1000.0</td>\n",
       "      <td>True</td>\n",
       "      <td>1</td>\n",
       "      <td>NaN</td>\n",
       "      <td>NaN</td>\n",
       "      <td>NaN</td>\n",
       "    </tr>\n",
       "    <tr>\n",
       "      <th>1</th>\n",
       "      <td>carbon_transfer</td>\n",
       "      <td>2</td>\n",
       "      <td>0.00</td>\n",
       "      <td>1000.0</td>\n",
       "      <td>False</td>\n",
       "      <td>0</td>\n",
       "      <td>NaN</td>\n",
       "      <td>NaN</td>\n",
       "      <td>NaN</td>\n",
       "    </tr>\n",
       "    <tr>\n",
       "      <th>2</th>\n",
       "      <td>Biomass</td>\n",
       "      <td>3</td>\n",
       "      <td>0.00</td>\n",
       "      <td>1000.0</td>\n",
       "      <td>True</td>\n",
       "      <td>2</td>\n",
       "      <td>NaN</td>\n",
       "      <td>NaN</td>\n",
       "      <td>NaN</td>\n",
       "    </tr>\n",
       "    <tr>\n",
       "      <th>3</th>\n",
       "      <td>EX_toxin_e</td>\n",
       "      <td>4</td>\n",
       "      <td>-1000.00</td>\n",
       "      <td>1000.0</td>\n",
       "      <td>True</td>\n",
       "      <td>3</td>\n",
       "      <td>NaN</td>\n",
       "      <td>NaN</td>\n",
       "      <td>NaN</td>\n",
       "    </tr>\n",
       "  </tbody>\n",
       "</table>\n",
       "</div>"
      ],
      "text/plain": [
       "    REACTION_NAMES  ID       LB      UB   EXCH  EXCH_IND  V_MAX  KM  HILL\n",
       "0      EX_carbon_e   1    -0.75  1000.0   True         1    NaN NaN   NaN\n",
       "1  carbon_transfer   2     0.00  1000.0  False         0    NaN NaN   NaN\n",
       "2          Biomass   3     0.00  1000.0   True         2    NaN NaN   NaN\n",
       "3       EX_toxin_e   4 -1000.00  1000.0   True         3    NaN NaN   NaN"
      ]
     },
     "execution_count": 42,
     "metadata": {},
     "output_type": "execute_result"
    }
   ],
   "source": [
    "S.reactions"
   ]
  },
  {
   "cell_type": "code",
   "execution_count": 43,
   "metadata": {},
   "outputs": [],
   "source": [
    "R.reactions.loc[R.reactions.REACTION_NAMES == \"Biomass\", \"EXCH\"] = False\n",
    "index = R.reactions.loc[R.reactions.REACTION_NAMES == \"Biomass\", \"EXCH_IND\"].values[0]\n",
    "R.reactions.loc[R.reactions.REACTION_NAMES == \"Biomass\", \"EXCH_IND\"] = 0\n",
    "R.reactions.loc[R.reactions.EXCH_IND > index, \"EXCH_IND\"] -= 1\n",
    "\n",
    "S.reactions.loc[S.reactions.REACTION_NAMES == \"Biomass\", \"EXCH\"] = False\n",
    "index = S.reactions.loc[S.reactions.REACTION_NAMES == \"Biomass\", \"EXCH_IND\"].values[0]\n",
    "S.reactions.loc[S.reactions.REACTION_NAMES == \"Biomass\", \"EXCH_IND\"] = 0\n",
    "S.reactions.loc[S.reactions.EXCH_IND > index, \"EXCH_IND\"] -= 1"
   ]
  },
  {
   "cell_type": "code",
   "execution_count": 44,
   "metadata": {},
   "outputs": [
    {
     "data": {
      "text/html": [
       "<div>\n",
       "<style scoped>\n",
       "    .dataframe tbody tr th:only-of-type {\n",
       "        vertical-align: middle;\n",
       "    }\n",
       "\n",
       "    .dataframe tbody tr th {\n",
       "        vertical-align: top;\n",
       "    }\n",
       "\n",
       "    .dataframe thead th {\n",
       "        text-align: right;\n",
       "    }\n",
       "</style>\n",
       "<table border=\"1\" class=\"dataframe\">\n",
       "  <thead>\n",
       "    <tr style=\"text-align: right;\">\n",
       "      <th></th>\n",
       "      <th>REACTION_NAMES</th>\n",
       "      <th>ID</th>\n",
       "      <th>LB</th>\n",
       "      <th>UB</th>\n",
       "      <th>EXCH</th>\n",
       "      <th>EXCH_IND</th>\n",
       "      <th>V_MAX</th>\n",
       "      <th>KM</th>\n",
       "      <th>HILL</th>\n",
       "    </tr>\n",
       "  </thead>\n",
       "  <tbody>\n",
       "    <tr>\n",
       "      <th>0</th>\n",
       "      <td>EX_carbon_e</td>\n",
       "      <td>1</td>\n",
       "      <td>-0.75</td>\n",
       "      <td>1000.0</td>\n",
       "      <td>True</td>\n",
       "      <td>1</td>\n",
       "      <td>NaN</td>\n",
       "      <td>NaN</td>\n",
       "      <td>NaN</td>\n",
       "    </tr>\n",
       "    <tr>\n",
       "      <th>1</th>\n",
       "      <td>carbon_transfer</td>\n",
       "      <td>2</td>\n",
       "      <td>0.00</td>\n",
       "      <td>1000.0</td>\n",
       "      <td>False</td>\n",
       "      <td>0</td>\n",
       "      <td>NaN</td>\n",
       "      <td>NaN</td>\n",
       "      <td>NaN</td>\n",
       "    </tr>\n",
       "    <tr>\n",
       "      <th>2</th>\n",
       "      <td>Biomass</td>\n",
       "      <td>3</td>\n",
       "      <td>0.00</td>\n",
       "      <td>1000.0</td>\n",
       "      <td>False</td>\n",
       "      <td>0</td>\n",
       "      <td>NaN</td>\n",
       "      <td>NaN</td>\n",
       "      <td>NaN</td>\n",
       "    </tr>\n",
       "    <tr>\n",
       "      <th>3</th>\n",
       "      <td>EX_toxin_e</td>\n",
       "      <td>4</td>\n",
       "      <td>-1000.00</td>\n",
       "      <td>1000.0</td>\n",
       "      <td>True</td>\n",
       "      <td>2</td>\n",
       "      <td>NaN</td>\n",
       "      <td>NaN</td>\n",
       "      <td>NaN</td>\n",
       "    </tr>\n",
       "  </tbody>\n",
       "</table>\n",
       "</div>"
      ],
      "text/plain": [
       "    REACTION_NAMES  ID       LB      UB   EXCH  EXCH_IND  V_MAX  KM  HILL\n",
       "0      EX_carbon_e   1    -0.75  1000.0   True         1    NaN NaN   NaN\n",
       "1  carbon_transfer   2     0.00  1000.0  False         0    NaN NaN   NaN\n",
       "2          Biomass   3     0.00  1000.0  False         0    NaN NaN   NaN\n",
       "3       EX_toxin_e   4 -1000.00  1000.0   True         2    NaN NaN   NaN"
      ]
     },
     "execution_count": 44,
     "metadata": {},
     "output_type": "execute_result"
    }
   ],
   "source": [
    "S.reactions"
   ]
  },
  {
   "cell_type": "markdown",
   "metadata": {},
   "source": [
    "# Now we add the \"signal\" to susceptible, which reduces growth rate proportionate to [toxin_e]. We use a \"bounded_linear\" function for this, because we don't want the upper bound of growth rate to go negative. "
   ]
  },
  {
   "cell_type": "code",
   "execution_count": 49,
   "metadata": {},
   "outputs": [],
   "source": [
    "biomass_id = S.reactions.loc[S.reactions.REACTION_NAMES == \"Biomass\", \"ID\"].values[0]\n",
    "toxin_exch_id = S.reactions.loc[S.reactions.REACTION_NAMES == \"EX_toxin_e\", \"EXCH_IND\"].values[0]"
   ]
  },
  {
   "cell_type": "code",
   "execution_count": 52,
   "metadata": {},
   "outputs": [
    {
     "data": {
      "text/html": [
       "<div>\n",
       "<style scoped>\n",
       "    .dataframe tbody tr th:only-of-type {\n",
       "        vertical-align: middle;\n",
       "    }\n",
       "\n",
       "    .dataframe tbody tr th {\n",
       "        vertical-align: top;\n",
       "    }\n",
       "\n",
       "    .dataframe thead th {\n",
       "        text-align: right;\n",
       "    }\n",
       "</style>\n",
       "<table border=\"1\" class=\"dataframe\">\n",
       "  <thead>\n",
       "    <tr style=\"text-align: right;\">\n",
       "      <th></th>\n",
       "      <th>REACTION_NUMBER</th>\n",
       "      <th>EXCH_IND</th>\n",
       "      <th>BOUND</th>\n",
       "      <th>FUNCTION</th>\n",
       "      <th>PARAMETERS</th>\n",
       "      <th>REACTION_NAMES</th>\n",
       "      <th>EXCH</th>\n",
       "    </tr>\n",
       "  </thead>\n",
       "  <tbody>\n",
       "    <tr>\n",
       "      <th>0</th>\n",
       "      <td>3</td>\n",
       "      <td>2</td>\n",
       "      <td>ub</td>\n",
       "      <td>bounded_linear</td>\n",
       "      <td>[0.75, 0.0, -0.75, 1.0]</td>\n",
       "      <td>Biomass</td>\n",
       "      <td>toxin_e</td>\n",
       "    </tr>\n",
       "    <tr>\n",
       "      <th>1</th>\n",
       "      <td>3</td>\n",
       "      <td>2</td>\n",
       "      <td>ub</td>\n",
       "      <td>bounded_linear</td>\n",
       "      <td>[0.75, 0.0, -0.75, 1.0]</td>\n",
       "      <td>Biomass</td>\n",
       "      <td>toxin_e</td>\n",
       "    </tr>\n",
       "  </tbody>\n",
       "</table>\n",
       "</div>"
      ],
      "text/plain": [
       "  REACTION_NUMBER EXCH_IND BOUND        FUNCTION               PARAMETERS  \\\n",
       "0               3        2    ub  bounded_linear  [0.75, 0.0, -0.75, 1.0]   \n",
       "1               3        2    ub  bounded_linear  [0.75, 0.0, -0.75, 1.0]   \n",
       "\n",
       "  REACTION_NAMES     EXCH  \n",
       "0        Biomass  toxin_e  \n",
       "1        Biomass  toxin_e  "
      ]
     },
     "execution_count": 52,
     "metadata": {},
     "output_type": "execute_result"
    }
   ],
   "source": [
    "gr_absense_of_toxin = growth_rate\n",
    "toxin_conc_where_effect_starts = 0.\n",
    "slope_of_toxin_effect = -growth_rate\n",
    "toxin_conc_where_effect_saturates = 1.\n",
    "S.add_signal(biomass_id, toxin_exch_id, 'ub', 'bounded_linear', \n",
    "             parms = [gr_absense_of_toxin, \n",
    "                      toxin_conc_where_effect_starts, \n",
    "                      slope_of_toxin_effect,\n",
    "                     toxin_conc_where_effect_saturates])\n",
    "S.signals"
   ]
  },
  {
   "cell_type": "markdown",
   "metadata": {},
   "source": [
    "# First lets do a well-mixed simulation."
   ]
  },
  {
   "cell_type": "code",
   "execution_count": 70,
   "metadata": {},
   "outputs": [
    {
     "name": "stdout",
     "output_type": "stream",
     "text": [
      "\n",
      "Running COMETS simulation ...\n",
      "Done!\n"
     ]
    }
   ],
   "source": [
    "S.initial_pop = [0, 0, 1.e-10]\n",
    "R.initial_pop = [0, 0, 1.e-10]\n",
    "P.initial_pop = [0, 0, 1.e-10]\n",
    "\n",
    "l = c.layout([P, R, S])\n",
    "l.set_specific_metabolite(\"carbon_e\", 4.e-7)\n",
    "\n",
    "p = c.params()\n",
    "p.set_param(\"defaultVmax\", 1.)\n",
    "p.set_param(\"defaultKm\", 0.000001) \n",
    "p.set_param('maxCycles', 300)\n",
    "p.set_param('timeStep', 0.1)\n",
    "p.set_param('spaceWidth', 0.02) # i.e. 2cm x 2cm\n",
    "p.set_param('writeMediaLog', True)\n",
    "p.set_param('MediaLogRate', 1)\n",
    "p.set_param('writeFluxLog', True)\n",
    "p.set_param('FluxLogRate', 1)\n",
    "p.set_param(\"totalBiomassLogRate\", 1)\n",
    "\n",
    "sim = c.comets(l, p)\n",
    "sim.VERSION = 'comets_multitoxin.jar'\n",
    "sim.set_classpath('bin', '/home/jeremy/Dropbox/work_related/harcombe_lab/segre/jars/comets_multitoxin.jar')\n",
    "sim.run()"
   ]
  },
  {
   "cell_type": "markdown",
   "metadata": {},
   "source": [
    "# Notice that susceptible ends up lower than resistant, but higher than producer. This all makes sense: producer has a cost of making the toxin (2% growth rate), resistant has no cost, and susceptible slowly decreases in growth rate."
   ]
  },
  {
   "cell_type": "code",
   "execution_count": 71,
   "metadata": {},
   "outputs": [
    {
     "data": {
      "text/plain": [
       "<AxesSubplot:xlabel='cycle'>"
      ]
     },
     "execution_count": 71,
     "metadata": {},
     "output_type": "execute_result"
    },
    {
     "data": {
      "image/png": "[encoded data removed]",
      "text/plain": [
       "<Figure size 432x288 with 1 Axes>"
      ]
     },
     "metadata": {
      "needs_background": "light"
     },
     "output_type": "display_data"
    }
   ],
   "source": [
    "sim.total_biomass.plot(x = \"cycle\")"
   ]
  },
  {
   "cell_type": "code",
   "execution_count": 72,
   "metadata": {},
   "outputs": [
    {
     "data": {
      "text/plain": [
       "(0.7, 0.8)"
      ]
     },
     "execution_count": 72,
     "metadata": {},
     "output_type": "execute_result"
    },
    {
     "data": {
      "image/png": "[encoded data removed]",
      "text/plain": [
       "<Figure size 432x288 with 1 Axes>"
      ]
     },
     "metadata": {
      "needs_background": "light"
     },
     "output_type": "display_data"
    }
   ],
   "source": [
    "ax = sim.fluxes_by_species[\"susceptible\"].plot(x = \"cycle\", y = \"Biomass\", label = \"susceptible growth rate\")\n",
    "sim.fluxes_by_species[\"resistant\"].plot(x = \"cycle\", y = \"Biomass\", \n",
    "                                        ax = ax, label = \"resistant growth rate\")\n",
    "sim.fluxes_by_species[\"producer\"].plot(x = \"cycle\", y = \"Biomass\", \n",
    "                                        ax = ax, label = \"producer growth rate\")\n",
    "ax.set_ylim(0.7,0.8)"
   ]
  },
  {
   "cell_type": "markdown",
   "metadata": {},
   "source": [
    "# the things which will affect \"who wins\" in these sims are the toxin cost, the toxin production rate (by default it is 1mmol toxin / gram growth), the total amount of carbon, the initial pop, and the spacewidth. Spacewidth is true even in well-mixed because it influences the concentration of the toxin (mmol / spaceWidth^3)--it is in fact a critical value."
   ]
  },
  {
   "cell_type": "code",
   "execution_count": 77,
   "metadata": {},
   "outputs": [
    {
     "name": "stdout",
     "output_type": "stream",
     "text": [
      "\n",
      "Running COMETS simulation ...\n",
      "Done!\n"
     ]
    },
    {
     "data": {
      "text/plain": [
       "(0.7, 0.8)"
      ]
     },
     "execution_count": 77,
     "metadata": {},
     "output_type": "execute_result"
    },
    {
     "data": {
      "image/png": "[encoded data removed]",
      "text/plain": [
       "<Figure size 432x288 with 1 Axes>"
      ]
     },
     "metadata": {
      "needs_background": "light"
     },
     "output_type": "display_data"
    },
    {
     "data": {
      "image/png": "[encoded data removed]",
      "text/plain": [
       "<Figure size 432x288 with 1 Axes>"
      ]
     },
     "metadata": {
      "needs_background": "light"
     },
     "output_type": "display_data"
    }
   ],
   "source": [
    "S.initial_pop = [0, 0, 1.e-10]\n",
    "R.initial_pop = [0, 0, 1.e-10]\n",
    "P.initial_pop = [0, 0, 1.e-10]\n",
    "\n",
    "l = c.layout([P, R, S])\n",
    "l.set_specific_metabolite(\"carbon_e\", 4.e-7)\n",
    "\n",
    "p = c.params()\n",
    "p.set_param(\"defaultVmax\", 1.)\n",
    "p.set_param(\"defaultKm\", 0.000001) \n",
    "p.set_param('maxCycles', 300)\n",
    "p.set_param('timeStep', 0.1)\n",
    "p.set_param('spaceWidth', 0.008) # smaller!\n",
    "p.set_param('writeMediaLog', True)\n",
    "p.set_param('MediaLogRate', 1)\n",
    "p.set_param('writeFluxLog', True)\n",
    "p.set_param('FluxLogRate', 1)\n",
    "p.set_param(\"totalBiomassLogRate\", 1)\n",
    "\n",
    "sim = c.comets(l, p)\n",
    "sim.VERSION = 'comets_multitoxin.jar'\n",
    "sim.set_classpath('bin', '/home/jeremy/Dropbox/work_related/harcombe_lab/segre/jars/comets_multitoxin.jar')\n",
    "sim.run()\n",
    "\n",
    "# Plotting\n",
    "sim.total_biomass.plot(x = \"cycle\")\n",
    "\n",
    "ax = sim.fluxes_by_species[\"susceptible\"].plot(x = \"cycle\", y = \"Biomass\", label = \"susceptible growth rate\")\n",
    "sim.fluxes_by_species[\"resistant\"].plot(x = \"cycle\", y = \"Biomass\", \n",
    "                                        ax = ax, label = \"resistant growth rate\")\n",
    "sim.fluxes_by_species[\"producer\"].plot(x = \"cycle\", y = \"Biomass\", \n",
    "                                        ax = ax, label = \"producer growth rate\")\n",
    "ax.set_ylim(0.7,0.8)"
   ]
  },
  {
   "cell_type": "markdown",
   "metadata": {},
   "source": [
    "# Now do it in a spatial world. Basically the same as we've done before. I'm doing a quick random locs func that is a bit simpler from that in cometspy.util.\n",
    "\n",
    "The deterministic simulations had 1 producer, 1 resistant, and 4 susceptibles. Let's have 30 founder colonies and use this ratio. "
   ]
  },
  {
   "cell_type": "code",
   "execution_count": 85,
   "metadata": {},
   "outputs": [],
   "source": [
    "def pick_unique_locations(width, height, n, edge_space = 0):\n",
    "    locs = []\n",
    "    while len(locs) < n:\n",
    "        loc = (random.randrange(edge_space, width - edge_space),\n",
    "               random.randrange(edge_space, height - edge_space))\n",
    "        if loc not in locs:\n",
    "            locs.append(loc)\n",
    "    return(locs)\n",
    "\n",
    "grid_size =[30, 30] # this was 100x100 in the actual sims!\n",
    "\n",
    "locs = pick_unique_locations(grid_size[0], grid_size[1], 30, 3)\n",
    "producer_locs = locs[0:5]\n",
    "resistant_locs = locs[5:10]\n",
    "susceptible_locs = locs[10:]"
   ]
  },
  {
   "cell_type": "markdown",
   "metadata": {},
   "source": [
    "## If you want to save the initial locations (useful for doing spatially-explicit analyses later), here's one approach"
   ]
  },
  {
   "cell_type": "code",
   "execution_count": 86,
   "metadata": {},
   "outputs": [
    {
     "data": {
      "text/html": [
       "<div>\n",
       "<style scoped>\n",
       "    .dataframe tbody tr th:only-of-type {\n",
       "        vertical-align: middle;\n",
       "    }\n",
       "\n",
       "    .dataframe tbody tr th {\n",
       "        vertical-align: top;\n",
       "    }\n",
       "\n",
       "    .dataframe thead th {\n",
       "        text-align: right;\n",
       "    }\n",
       "</style>\n",
       "<table border=\"1\" class=\"dataframe\">\n",
       "  <thead>\n",
       "    <tr style=\"text-align: right;\">\n",
       "      <th></th>\n",
       "      <th>strain</th>\n",
       "      <th>x</th>\n",
       "      <th>y</th>\n",
       "    </tr>\n",
       "  </thead>\n",
       "  <tbody>\n",
       "    <tr>\n",
       "      <th>0</th>\n",
       "      <td>producer</td>\n",
       "      <td>19</td>\n",
       "      <td>8</td>\n",
       "    </tr>\n",
       "    <tr>\n",
       "      <th>1</th>\n",
       "      <td>producer</td>\n",
       "      <td>9</td>\n",
       "      <td>22</td>\n",
       "    </tr>\n",
       "    <tr>\n",
       "      <th>2</th>\n",
       "      <td>producer</td>\n",
       "      <td>24</td>\n",
       "      <td>3</td>\n",
       "    </tr>\n",
       "    <tr>\n",
       "      <th>3</th>\n",
       "      <td>producer</td>\n",
       "      <td>10</td>\n",
       "      <td>20</td>\n",
       "    </tr>\n",
       "    <tr>\n",
       "      <th>4</th>\n",
       "      <td>producer</td>\n",
       "      <td>18</td>\n",
       "      <td>17</td>\n",
       "    </tr>\n",
       "    <tr>\n",
       "      <th>5</th>\n",
       "      <td>resistant</td>\n",
       "      <td>11</td>\n",
       "      <td>19</td>\n",
       "    </tr>\n",
       "    <tr>\n",
       "      <th>6</th>\n",
       "      <td>resistant</td>\n",
       "      <td>26</td>\n",
       "      <td>15</td>\n",
       "    </tr>\n",
       "    <tr>\n",
       "      <th>7</th>\n",
       "      <td>resistant</td>\n",
       "      <td>7</td>\n",
       "      <td>23</td>\n",
       "    </tr>\n",
       "    <tr>\n",
       "      <th>8</th>\n",
       "      <td>resistant</td>\n",
       "      <td>9</td>\n",
       "      <td>21</td>\n",
       "    </tr>\n",
       "    <tr>\n",
       "      <th>9</th>\n",
       "      <td>resistant</td>\n",
       "      <td>23</td>\n",
       "      <td>9</td>\n",
       "    </tr>\n",
       "    <tr>\n",
       "      <th>10</th>\n",
       "      <td>susceptible</td>\n",
       "      <td>17</td>\n",
       "      <td>17</td>\n",
       "    </tr>\n",
       "  </tbody>\n",
       "</table>\n",
       "</div>"
      ],
      "text/plain": [
       "         strain   x   y\n",
       "0      producer  19   8\n",
       "1      producer   9  22\n",
       "2      producer  24   3\n",
       "3      producer  10  20\n",
       "4      producer  18  17\n",
       "5     resistant  11  19\n",
       "6     resistant  26  15\n",
       "7     resistant   7  23\n",
       "8     resistant   9  21\n",
       "9     resistant  23   9\n",
       "10  susceptible  17  17"
      ]
     },
     "execution_count": 86,
     "metadata": {},
     "output_type": "execute_result"
    }
   ],
   "source": [
    "spatial_data = pd.DataFrame(columns = [\"strain\", \"x\", \"y\"])\n",
    "producer_data = pd.DataFrame({\"strain\" : \"producer\",\n",
    "                             \"x\" : [x[0] for x in producer_locs],\n",
    "                             \"y\" : [x[1] for x in producer_locs]})\n",
    "resistant_data = pd.DataFrame({\"strain\" : \"resistant\",\n",
    "                             \"x\" : [x[0] for x in resistant_locs],\n",
    "                             \"y\" : [x[1] for x in resistant_locs]})\n",
    "susceptible_data = pd.DataFrame({\"strain\" : \"susceptible\",\n",
    "                             \"x\" : [x[0] for x in susceptible_locs],\n",
    "                             \"y\" : [x[1] for x in susceptible_locs]})\n",
    "spatial_data = spatial_data.append(producer_data, \n",
    "                                   ignore_index = True).append(resistant_data, \n",
    "                                                               ignore_index = True).append(susceptible_data, ignore_index = True)\n",
    "# spatial_data.to_csv(\"whatever_you_want_to_call_the_file.csv\")\n",
    "spatial_data.head(11)"
   ]
  },
  {
   "cell_type": "markdown",
   "metadata": {},
   "source": [
    "Note that the timeStep must be pretty small. Note also that we set the toxin_e diffusion constant to 10x lower than the defaultDiffConst. \n",
    "\n",
    "Also, I set the maxCycles to 5, because when doing spatial sims its good to check the run_output to make sure our timeStep was small enough"
   ]
  },
  {
   "cell_type": "code",
   "execution_count": 130,
   "metadata": {},
   "outputs": [
    {
     "name": "stdout",
     "output_type": "stream",
     "text": [
      "\n",
      "Running COMETS simulation ...\n",
      "Done!\n"
     ]
    }
   ],
   "source": [
    "initial_biomass = 1.e-10\n",
    "S.initial_pop = [[loc[0], loc[1], initial_biomass] for loc in susceptible_locs]\n",
    "P.initial_pop = [[loc[0], loc[1], initial_biomass] for loc in producer_locs]\n",
    "R.initial_pop = [[loc[0], loc[1], initial_biomass] for loc in resistant_locs]\n",
    "\n",
    "l = c.layout([P, R, S])\n",
    "l.grid = grid_size\n",
    "l.set_specific_metabolite(\"carbon_e\", 4.e-7)\n",
    "l.media.loc[l.media.metabolite == \"toxin_e\", \"diff_c\"] = 5.e-7\n",
    "\n",
    "p = c.params()\n",
    "p.set_param(\"defaultVmax\", 1.)\n",
    "p.set_param(\"defaultKm\", 0.000001) \n",
    "p.set_param('maxCycles', 5) #  60*24)\n",
    "p.set_param('timeStep', 1/60) # 1 minute\n",
    "p.set_param('spaceWidth', 0.0025) # smaller!\n",
    "p.set_param(\"defaultDiffConst\", 5.e-6)\n",
    "p.set_param('minSpaceBiomass', 1.e-15)\n",
    "p.set_param('writeMediaLog', True)\n",
    "p.set_param('MediaLogRate', 1)\n",
    "p.set_param('writeFluxLog', True)\n",
    "p.set_param('FluxLogRate', 1)\n",
    "p.set_param(\"totalBiomassLogRate\", 1)\n",
    "p.set_param(\"numDiffPerStep\", 1)\n",
    "\n",
    "sim = c.comets(l, p)\n",
    "sim.VERSION = 'comets_multitoxin.jar'\n",
    "sim.set_classpath('bin', '/home/jeremy/Dropbox/work_related/harcombe_lab/segre/jars/comets_multitoxin.jar')\n",
    "sim.run()"
   ]
  },
  {
   "cell_type": "code",
   "execution_count": 131,
   "metadata": {},
   "outputs": [
    {
     "name": "stdout",
     "output_type": "stream",
     "text": [
      "-script\n",
      "running script file: /home/jeremy/Dropbox/work_related/harcombe_lab/comets_protocols/growth_rate_vs_toxins/.current_script_0x7f43a79efc50\n",
      "Current Java version: 11.0.17\n",
      "Parameters file .current_global_0x7f43a79efc50 loaded.\n",
      "Parameters file .current_package_0x7f43a79efc50 loaded.\n",
      "Loading layout file '.current_layout_0x7f43a79efc50'...\n",
      "null/COMETS_manifest.txt (No such file or directory)\n",
      "Unable to initialize manifest file. \n",
      "Continuing without writing manifest file.\n",
      "Found 3 model files!\n",
      "Loading './producer.cmd' ...\n",
      "Academic license - for non-commercial use only\n",
      "Academic license - for non-commercial use only\n",
      "Done!\n",
      " Testing default parameters...\n",
      "Done!\n",
      "Optimizer status code = 5 (looks ok!)\n",
      "objective solution = 0.7352941176470588\n",
      "Loading './resistant.cmd' ...\n",
      "Academic license - for non-commercial use only\n",
      "Academic license - for non-commercial use only\n",
      "Done!\n",
      " Testing default parameters...\n",
      "Done!\n",
      "Optimizer status code = 5 (looks ok!)\n",
      "objective solution = 0.75\n",
      "Loading './susceptible.cmd' ...\n",
      "Academic license - for non-commercial use only\n",
      "Academic license - for non-commercial use only\n",
      "Done!\n",
      " Testing default parameters...\n",
      "Done!\n",
      "Optimizer status code = 5 (looks ok!)\n",
      "objective solution = 0.75\n",
      "Constructing world...\n",
      "Done!\n",
      "medialist\tcarbon_e\ttoxin_e\n",
      "Cycle 1\n",
      "Unstable diffusion constants. Try setting the time step below 1.25seconds\n",
      "Unstable diffusion constants. Try setting the time step below 12.500000000000002seconds\n",
      "Total biomass:\n",
      "Model producer.cmd: 5.061174768180354E-10\n",
      "Model resistant.cmd: 5.062430967166558E-10\n",
      "Model susceptible.cmd: 2.0249721090977833E-9\n",
      "Cycle 2\n",
      "Unstable diffusion constants. Try setting the time step below 1.25seconds\n",
      "Unstable diffusion constants. Try setting the time step below 12.500000000000002seconds\n",
      "Total biomass:\n",
      "Model producer.cmd: 5.123114028500375E-10\n",
      "Model resistant.cmd: 5.125626583514589E-10\n",
      "Model susceptible.cmd: 2.0502598464550665E-9\n",
      "Cycle 3\n",
      "Unstable diffusion constants. Try setting the time step below 1.25seconds\n",
      "Unstable diffusion constants. Try setting the time step below 12.500000000000002seconds\n",
      "Total biomass:\n",
      "Model producer.cmd: 5.185557277821765E-10\n",
      "Model resistant.cmd: 5.189429665896237E-10\n",
      "Model susceptible.cmd: 2.0758053199102876E-9\n",
      "Cycle 4\n",
      "Unstable diffusion constants. Try setting the time step below 1.25seconds\n",
      "Unstable diffusion constants. Try setting the time step below 12.500000000000002seconds\n",
      "Total biomass:\n",
      "Model producer.cmd: 5.249027521014911E-10\n",
      "Model resistant.cmd: 5.254238641796313E-10\n",
      "Model susceptible.cmd: 2.1017363712377103E-9\n",
      "Cycle 5\n",
      "Unstable diffusion constants. Try setting the time step below 1.25seconds\n",
      "Unstable diffusion constants. Try setting the time step below 12.500000000000002seconds\n",
      "Total biomass:\n",
      "Model producer.cmd: 5.313163957734116E-10\n",
      "Model resistant.cmd: 5.31977010946287E-10\n",
      "Model susceptible.cmd: 2.127967939397631E-9\n",
      "Cycle 6\n",
      "End of simulation\n",
      "Total time = 1.343s\n",
      "\n"
     ]
    }
   ],
   "source": [
    "print(sim.run_output)"
   ]
  },
  {
   "cell_type": "markdown",
   "metadata": {},
   "source": [
    "OK, lets increase numDiffPerStep"
   ]
  },
  {
   "cell_type": "code",
   "execution_count": 133,
   "metadata": {},
   "outputs": [
    {
     "name": "stdout",
     "output_type": "stream",
     "text": [
      "\n",
      "Running COMETS simulation ...\n",
      "Done!\n",
      "-script\n",
      "running script file: /home/jeremy/Dropbox/work_related/harcombe_lab/comets_protocols/growth_rate_vs_toxins/.current_script_0x7f43a725a198\n",
      "Current Java version: 11.0.17\n",
      "Parameters file .current_global_0x7f43a725a198 loaded.\n",
      "Parameters file .current_package_0x7f43a725a198 loaded.\n",
      "Loading layout file '.current_layout_0x7f43a725a198'...\n",
      "null/COMETS_manifest.txt (No such file or directory)\n",
      "Unable to initialize manifest file. \n",
      "Continuing without writing manifest file.\n",
      "Found 3 model files!\n",
      "Loading './producer.cmd' ...\n",
      "Academic license - for non-commercial use only\n",
      "Academic license - for non-commercial use only\n",
      "Done!\n",
      " Testing default parameters...\n",
      "Done!\n",
      "Optimizer status code = 5 (looks ok!)\n",
      "objective solution = 0.7352941176470588\n",
      "Loading './resistant.cmd' ...\n",
      "Academic license - for non-commercial use only\n",
      "Academic license - for non-commercial use only\n",
      "Done!\n",
      " Testing default parameters...\n",
      "Done!\n",
      "Optimizer status code = 5 (looks ok!)\n",
      "objective solution = 0.75\n",
      "Loading './susceptible.cmd' ...\n",
      "Academic license - for non-commercial use only\n",
      "Academic license - for non-commercial use only\n",
      "Done!\n",
      " Testing default parameters...\n",
      "Done!\n",
      "Optimizer status code = 5 (looks ok!)\n",
      "objective solution = 0.75\n",
      "Constructing world...\n",
      "Done!\n",
      "medialist\tcarbon_e\ttoxin_e\n",
      "Cycle 1\n",
      "Total biomass:\n",
      "Model producer.cmd: 5.061203787907315E-10\n",
      "Model resistant.cmd: 5.062451061736937E-10\n",
      "Model susceptible.cmd: 2.0249795192794844E-9\n",
      "Cycle 2\n",
      "Total biomass:\n",
      "Model producer.cmd: 5.123145861041515E-10\n",
      "Model resistant.cmd: 5.125650017001551E-10\n",
      "Model susceptible.cmd: 2.0502680754039177E-9\n",
      "Cycle 3\n",
      "Total biomass:\n",
      "Model producer.cmd: 5.185592282474586E-10\n",
      "Model resistant.cmd: 5.189455627424864E-10\n",
      "Model susceptible.cmd: 2.075814281965096E-9\n",
      "Cycle 4\n",
      "Total biomass:\n",
      "Model producer.cmd: 5.249065670858845E-10\n",
      "Model resistant.cmd: 5.254266913493766E-10\n",
      "Model susceptible.cmd: 2.1017460153366996E-9\n",
      "Cycle 5\n",
      "Total biomass:\n",
      "Model producer.cmd: 5.313205360803654E-10\n",
      "Model resistant.cmd: 5.319800853957532E-10\n",
      "Model susceptible.cmd: 2.12797829026351E-9\n",
      "Cycle 6\n",
      "End of simulation\n",
      "Total time = 2.029s\n",
      "\n"
     ]
    }
   ],
   "source": [
    "p.set_param(\"numDiffPerStep\", 60)\n",
    "sim = c.comets(l, p)\n",
    "sim.VERSION = 'comets_multitoxin.jar'\n",
    "sim.set_classpath('bin', '/home/jeremy/Dropbox/work_related/harcombe_lab/segre/jars/comets_multitoxin.jar')\n",
    "sim.run()\n",
    "print(sim.run_output)"
   ]
  },
  {
   "cell_type": "markdown",
   "metadata": {},
   "source": [
    "# okay looks good, no warning about diffusion constants. Increase maxCycles and move forward"
   ]
  },
  {
   "cell_type": "code",
   "execution_count": 135,
   "metadata": {},
   "outputs": [
    {
     "name": "stdout",
     "output_type": "stream",
     "text": [
      "\n",
      "Running COMETS simulation ...\n",
      "Done!\n"
     ]
    }
   ],
   "source": [
    "p.set_param(\"maxCycles\", 60 * 36)\n",
    "sim = c.comets(l, p)\n",
    "sim.VERSION = 'comets_multitoxin.jar'\n",
    "sim.set_classpath('bin', '/home/jeremy/Dropbox/work_related/harcombe_lab/segre/jars/comets_multitoxin.jar')\n",
    "sim.run()\n"
   ]
  },
  {
   "cell_type": "code",
   "execution_count": 136,
   "metadata": {},
   "outputs": [
    {
     "data": {
      "text/plain": [
       "<AxesSubplot:xlabel='cycle'>"
      ]
     },
     "execution_count": 136,
     "metadata": {},
     "output_type": "execute_result"
    },
    {
     "data": {
      "image/png": "[encoded data removed]",
      "text/plain": [
       "<Figure size 432x288 with 1 Axes>"
      ]
     },
     "metadata": {
      "needs_background": "light"
     },
     "output_type": "display_data"
    }
   ],
   "source": [
    "sim.total_biomass.plot(x = \"cycle\", logy = True)"
   ]
  },
  {
   "cell_type": "code",
   "execution_count": null,
   "metadata": {},
   "outputs": [],
   "source": []
  }
 ],
 "metadata": {
  "kernelspec": {
   "display_name": "Python 3",
   "language": "python",
   "name": "python3"
  },
  "language_info": {
   "codemirror_mode": {
    "name": "ipython",
    "version": 3
   },
   "file_extension": ".py",
   "mimetype": "text/x-python",
   "name": "python",
   "nbconvert_exporter": "python",
   "pygments_lexer": "ipython3",
   "version": "3.6.10"
  }
 },
 "nbformat": 4,
 "nbformat_minor": 4
}
