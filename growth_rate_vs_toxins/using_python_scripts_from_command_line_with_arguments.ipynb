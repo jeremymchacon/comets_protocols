{
 "cells": [
  {
   "cell_type": "markdown",
   "metadata": {},
   "source": [
    "# The point of this ipynb is to show how one would run a python script (also in this directory) from the command line.  \n",
    "\n",
    "## The reason for this is because when we submit slurm job arrays, we can provide a single number as an argument. This then becomes \"rep\" inside the python script, and we need to parse from \"rep\" what the different parameters should be. This can be tricky to get right.\n",
    "\n",
    "## First of all, note that bash commands can be given in a jupyter notebook by preceding the command with !  \n",
    "\n",
    "## Therefore, actual bash commands run on the command line should be the same, but remove the preceding !."
   ]
  },
  {
   "cell_type": "code",
   "execution_count": 1,
   "metadata": {},
   "outputs": [
    {
     "name": "stdout",
     "output_type": "stream",
     "text": [
      "20221101_random_locations_growthrate.py    medialog_0x7f43a75a9f28\r\n",
      "fluxlog_0x7f43a759b588\t\t\t   RPS_simulations.py\r\n",
      "fluxlog_0x7f43a75a9f28\t\t\t   sys_args_and_rep_to_parms.py\r\n",
      "growth_rate_vs_toxins_command_line.ipynb   totalbiomasslog_0x7f43a759b588\r\n",
      "growth_rate_vs_toxins_simple_models.ipynb  totalbiomasslog_0x7f43a75a9f28\r\n",
      "medialog_0x7f43a759b588\t\t\t   toxin_and_media_functions.py\r\n"
     ]
    }
   ],
   "source": [
    "!ls # e.g. show the files here"
   ]
  },
  {
   "cell_type": "code",
   "execution_count": 15,
   "metadata": {},
   "outputs": [
    {
     "name": "stdout",
     "output_type": "stream",
     "text": [
      "import sys\r\n",
      "import math\r\n",
      "\r\n",
      "# when a python script is run on the command line like python myscript.py 2,the arguments live in sys.argv. The first arg is the python file and the rest are the following arguments.\r\n",
      "\r\n",
      "args = sys.argv\r\n",
      "print(\"all args:\")\r\n",
      "print(args)\r\n",
      "\r\n",
      "print(\"second arg, casted to an int\")\r\n",
      "rep = int(args[1])\r\n",
      "print(rep)\r\n",
      "\r\n",
      "# imagine treatments go here\r\n",
      "growth_rates = [0.125, 0.25, 0.5, 1]\r\n",
      "space_widths = [0.01, 0.001]\r\n",
      "\r\n",
      "# iterate through these to figure out which to use, and the spatial seed\r\n",
      "total_treatments = len(growth_rates) * len(space_widths)\r\n",
      "seed = math.floor(rep / total_treatments)\r\n",
      "trt_num = rep %  total_treatments\r\n",
      "counter = 0\r\n",
      "for gr in growth_rates:\r\n",
      "    growth_rate = gr\r\n",
      "    for sw in space_widths:\r\n",
      "        space_width = sw\r\n",
      "        if counter == trt_num:\r\n",
      "            break\r\n",
      "    if counter == trt_num:\r\n",
      "        break\r\n",
      "print(f\"spatial seed = {seed}\")\r\n",
      "print(f\"growth rate = {growth_rate}\")\r\n",
      "print(f\"space width = {space_width}\")\r\n",
      "\r\n",
      "\r\n"
     ]
    }
   ],
   "source": [
    "# here is the demo file\n",
    "!tail -n +0 sys_args_and_rep_to_parms.py"
   ]
  },
  {
   "cell_type": "code",
   "execution_count": 20,
   "metadata": {},
   "outputs": [
    {
     "name": "stdout",
     "output_type": "stream",
     "text": [
      "system argument = 0\n",
      "treatment # = 1\n",
      "spatial seed = 0\n",
      "growth rate = 0.25\n",
      "space width = 0.01\n",
      "\n",
      "system argument = 1\n",
      "treatment # = 2\n",
      "spatial seed = 0\n",
      "growth rate = 0.25\n",
      "space width = 0.001\n",
      "\n",
      "system argument = 2\n",
      "treatment # = 3\n",
      "spatial seed = 0\n",
      "growth rate = 0.5\n",
      "space width = 0.01\n",
      "\n",
      "system argument = 3\n",
      "treatment # = 4\n",
      "spatial seed = 0\n",
      "growth rate = 0.5\n",
      "space width = 0.001\n",
      "\n",
      "system argument = 4\n",
      "treatment # = 5\n",
      "spatial seed = 0\n",
      "growth rate = 1\n",
      "space width = 0.01\n",
      "\n",
      "system argument = 5\n",
      "treatment # = 6\n",
      "spatial seed = 0\n",
      "growth rate = 1\n",
      "space width = 0.001\n",
      "\n",
      "system argument = 6\n",
      "treatment # = 1\n",
      "spatial seed = 1\n",
      "growth rate = 0.25\n",
      "space width = 0.01\n",
      "\n",
      "system argument = 7\n",
      "treatment # = 2\n",
      "spatial seed = 1\n",
      "growth rate = 0.25\n",
      "space width = 0.001\n",
      "\n"
     ]
    }
   ],
   "source": [
    "# here we should how supplying different arguments gives us different spatial treatment data\n",
    "for rep in range(8):\n",
    "    !python sys_args_and_rep_to_parms.py {rep}"
   ]
  },
  {
   "cell_type": "markdown",
   "metadata": {},
   "source": [
    "# To do this on MSI, we'd make a slurm script which called the python script with the supplied argument at the end. Here's an example slurm script which would work for the file above. In this case, I also am loading a few modules, and entering a conda environment. gurobi on MSI is weird and \"hijacks\" python variables, hence those \"unset\" lines.\n",
    "\n",
    "The name of the argument given to the slurm script is $SLURM_ARRAY_TASK_ID, which is then passed to the python script."
   ]
  },
  {
   "cell_type": "code",
   "execution_count": 21,
   "metadata": {},
   "outputs": [
    {
     "name": "stdout",
     "output_type": "stream",
     "text": [
      "#!/bin/bash -l\r\n",
      "#SBATCH --time=48:00:00\r\n",
      "#SBATCH --ntasks=1\r\n",
      "#SBATCH --mem=32g\r\n",
      "#SBATCH --tmp=10g\r\n",
      "#SBATCH --mail-type=NONE\r\n",
      "\r\n",
      "module load conda\r\n",
      "module load java/openjdk-13.0.2\r\n",
      "module load gurobi/9.0.2\r\n",
      "unset PYTHONPATH\r\n",
      "unset PYTHONHOME\r\n",
      "unset PYTHONSTARTUP\r\n",
      "\r\n",
      "source activate streptomyces\r\n",
      "\r\n",
      "cd RPS\r\n",
      "\r\n",
      "python using_python_scripts_from_command_line_with_arguments.py $SLURM_ARRAY_TASK_ID\r\n",
      "\r\n"
     ]
    }
   ],
   "source": [
    "!tail -n +0 example_slurm_script.slurm"
   ]
  },
  {
   "cell_type": "markdown",
   "metadata": {},
   "source": [
    "# If we put the python script onto MSI in \\~/RPS, and the slurm script in home on MSI (\\~/), then ran the following code:\n",
    "\n",
    "sbatch --array=0-120 example_slurm_script.slurm\n",
    "\n",
    "It would submit jobs to run the python script 120 times, each time with a different argument between 0-120.\n"
   ]
  },
  {
   "cell_type": "code",
   "execution_count": 23,
   "metadata": {},
   "outputs": [
    {
     "data": {
      "text/plain": [
       "0.6250000000000001"
      ]
     },
     "execution_count": 23,
     "metadata": {},
     "output_type": "execute_result"
    }
   ],
   "source": []
  },
  {
   "cell_type": "code",
   "execution_count": null,
   "metadata": {},
   "outputs": [],
   "source": []
  }
 ],
 "metadata": {
  "kernelspec": {
   "display_name": "Python 3",
   "language": "python",
   "name": "python3"
  },
  "language_info": {
   "codemirror_mode": {
    "name": "ipython",
    "version": 3
   },
   "file_extension": ".py",
   "mimetype": "text/x-python",
   "name": "python",
   "nbconvert_exporter": "python",
   "pygments_lexer": "ipython3",
   "version": "3.6.10"
  }
 },
 "nbformat": 4,
 "nbformat_minor": 4
}
