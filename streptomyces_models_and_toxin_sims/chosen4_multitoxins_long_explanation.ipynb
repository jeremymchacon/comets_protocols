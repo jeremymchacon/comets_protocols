{
 "cells": [
  {
   "cell_type": "code",
   "execution_count": 1,
   "metadata": {},
   "outputs": [],
   "source": [
    "import cobra\n",
    "import os\n",
    "import numpy as np\n",
    "from copy import copy\n",
    "import re\n",
    "import pandas as pd\n",
    "import sys\n",
    "import random\n",
    "import cometspy as c\n",
    "\n",
    "import itertools\n",
    "os.environ[\"GUROBI_COMETS_HOME\"] = \"/opt/gurobi952/linux64\"\n"
   ]
  },
  {
   "cell_type": "markdown",
   "metadata": {},
   "source": [
    "# This notebook shows how one sets the multitoxins for the chosen 4 species.\n",
    "\n",
    "The four models inhibit each other based upon constitutive inhibition tests done by Molly.\n",
    "\n",
    "The parameters result in 50% less growth of the affected, when grown in coculture with the producer, in glucose minimal media. \n",
    "\n",
    "The way the \"multitoxins\" work is by chaining together multiple hill functions. This requires we state what the maximum growth rate could be in the absence of toxins, and then what the km and hill parameters are for each toxin.\n",
    "\n",
    "These models were made with carveme, gap-filling on BIOLOG-known growth, then gapclosing (by turning off transport reactions) on BIOLOG no growth. They used the \"grampos\" biomass reaction."
   ]
  },
  {
   "cell_type": "code",
   "execution_count": 2,
   "metadata": {},
   "outputs": [
    {
     "name": "stdout",
     "output_type": "stream",
     "text": [
      "Scaling...\n",
      " A: min|aij| =  1.000e+00  max|aij| =  1.000e+00  ratio =  1.000e+00\n",
      "Problem data seem to be well scaled\n"
     ]
    }
   ],
   "source": [
    "\n",
    "unlimited = [\"EX_ca2_e\",\"EX_cl_e\",\"EX_co2_e\",\"EX_cobalt2_e\",\"EX_cu2_e\",\n",
    "             \"EX_fe2_e\",\"EX_fe3_e\",\"EX_h_e\",\"EX_h2o_e\",\"EX_k_e\",\"EX_mg2_e\",\n",
    "             \"EX_mn2_e\",\"EX_mobd_e\",\"EX_na1_e\",\"EX_nh4_e\",\"EX_ni2_e\",\n",
    "             \"EX_o2_e\",\"EX_pi_e\",\"EX_sel_e\",\"EX_slnt_e\",\"EX_so4_e\",\n",
    "             \"EX_tungs_e\",\"EX_zn2_e\"]\n",
    "\n",
    "\n",
    "model_dir = \"./models/\"\n",
    "\n",
    "model_shortnames = {\"B\" : \"ST32113_grampos\",\n",
    "             \"F\" : \"ST32123_grampos\",\n",
    "             \"G\" : \"ST32124_grampos\",\n",
    "             \"I\" :\"ST32133_grampos\"}\n",
    "\n",
    "model_ids = list(model_shortnames.values())\n",
    "B = cobra.io.read_sbml_model(model_dir + model_shortnames[\"B\"] + \"_2022gapclosed.xml\")\n",
    "B.id = \"B\"\n",
    "F = cobra.io.read_sbml_model(model_dir + model_shortnames[\"F\"] + \"_2022gapclosed.xml\")\n",
    "F.id = \"F\"\n",
    "G = cobra.io.read_sbml_model(model_dir + model_shortnames[\"G\"] + \"_2022gapclosed.xml\")\n",
    "G.id = \"G\"\n",
    "I = cobra.io.read_sbml_model(model_dir + model_shortnames[\"I\"] + \"_2022gapclosed.xml\")\n",
    "I.id = \"I\""
   ]
  },
  {
   "cell_type": "markdown",
   "metadata": {},
   "source": [
    "# The next part makes models produce toxin, as well as be able to \"see\" (i.e. have an exchange reaction for) toxins which influence them.\n",
    "\n",
    "Here are the specific relationships:\n",
    "\n",
    "1. Strain B makes \"B_toxin\", and is harmed by \"F_toxin\" and \"G_toxin\"\n",
    "2. Strain F makes \"F_toxin\" and is harmed by \"B_toxin\" and \"G_toxin\"\n",
    "3. Strain G makes \"G_toxin\" and is harmed by \"B_toxin\" and \"F_toxin\"\n",
    "4. Strain I is harmed by \"B_toxin\"\n",
    "\n",
    "Like all toxin-related COMETS stuff, there are two steps: 1) getting the metabolite production and visibility arranged in the cobra metabolic model, then 2) adding the actual signal/toxin relationship in cometspy. \n",
    "\n",
    "Here, since > 1 toxin can affect a species, we use cometspy's \"multitoxin\" approach."
   ]
  },
  {
   "cell_type": "code",
   "execution_count": 3,
   "metadata": {},
   "outputs": [
    {
     "data": {
      "text/html": [
       "\n",
       "        <table>\n",
       "            <tr>\n",
       "                <td><strong>Reaction identifier</strong></td><td>EX_B_toxin_e</td>\n",
       "            </tr><tr>\n",
       "                <td><strong>Name</strong></td><td>exchange</td>\n",
       "            </tr><tr>\n",
       "                <td><strong>Memory address</strong></td>\n",
       "                <td>0x07f3ea1f86d30</td>\n",
       "            </tr><tr>\n",
       "                <td><strong>Stoichiometry</strong></td>\n",
       "                <td>\n",
       "                    <p style='text-align:right'>B_toxin_e --></p>\n",
       "                    <p style='text-align:right'>--></p>\n",
       "                </td>\n",
       "            </tr><tr>\n",
       "                <td><strong>GPR</strong></td><td></td>\n",
       "            </tr><tr>\n",
       "                <td><strong>Lower bound</strong></td><td>0</td>\n",
       "            </tr><tr>\n",
       "                <td><strong>Upper bound</strong></td><td>0</td>\n",
       "            </tr>\n",
       "        </table>\n",
       "        "
      ],
      "text/plain": [
       "<Reaction EX_B_toxin_e at 0x7f3ea1f86d30>"
      ]
     },
     "execution_count": 3,
     "metadata": {},
     "output_type": "execute_result"
    }
   ],
   "source": [
    "\n",
    "### Make the cobra models which make toxin, export it, and see it\n",
    "from cobra import Metabolite, Reaction\n",
    "\n",
    "B_toxin_c = Metabolite(\"B_toxin_c\", compartment = \"C_c\")\n",
    "B_toxin_e = Metabolite(\"B_toxin_e\", compartment = \"C_e\")\n",
    "B_objective = B.reactions.Growth\n",
    "# arbitrarily have one unit of toxin produced for 1 gram of cells\n",
    "B_objective.add_metabolites({B_toxin_c: 1.})\n",
    "B_toxin_tpp = Reaction(\"B_toxin_tpp\", \n",
    "                       lower_bound = 0, upper_bound = 1000)\n",
    "B_toxin_tpp.add_metabolites({B_toxin_c : -1,\n",
    "                       B_toxin_e: 1})\n",
    "B.add_reactions([B_toxin_tpp])\n",
    "B.add_boundary(B_toxin_e, type = \"exchange\",\n",
    "               lb = 0, ub = 1000)\n",
    "\n",
    "\n",
    "\n",
    "F_toxin_c = Metabolite(\"F_toxin_c\", compartment = \"C_c\")\n",
    "F_toxin_e = Metabolite(\"F_toxin_e\", compartment = \"C_e\")\n",
    "F_objective = F.reactions.Growth\n",
    "# arbitrarily have one unit of toxin produced for 1 gram of cells\n",
    "F_objective.add_metabolites({F_toxin_c: 1.})\n",
    "F_toxin_tpp = Reaction(\"F_toxin_tpp\", \n",
    "                       lower_bound = 0, upper_bound = 1000)\n",
    "F_toxin_tpp.add_metabolites({F_toxin_c : -1,\n",
    "                       F_toxin_e: 1})\n",
    "F.add_reactions([F_toxin_tpp])\n",
    "F.add_boundary(F_toxin_e, type = \"exchange\",\n",
    "               lb = 0, ub = 1000)\n",
    "\n",
    "\n",
    "G_toxin_c = Metabolite(\"G_toxin_c\", compartment = \"C_c\")\n",
    "G_toxin_e = Metabolite(\"G_toxin_e\", compartment = \"C_e\")\n",
    "G_objective = G.reactions.Growth\n",
    "# arbitrarily have one unit of toxin produced for 1 gram of cells\n",
    "G_objective.add_metabolites({G_toxin_c: 1.})\n",
    "G_toxin_tpp = Reaction(\"G_toxin_tpp\", \n",
    "                       lower_bound = 0, upper_bound = 1000)\n",
    "G_toxin_tpp.add_metabolites({G_toxin_c : -1,\n",
    "                       G_toxin_e: 1})\n",
    "G.add_reactions([G_toxin_tpp])\n",
    "G.add_boundary(G_toxin_e, type = \"exchange\",\n",
    "               lb = 0, ub = 1000)\n",
    "\n",
    "\n",
    "# B needs to see F,G\n",
    "# F needs to see B,G\n",
    "#G needs to see B, F\n",
    "#I needs to see B\n",
    "\n",
    "B.add_boundary(F_toxin_e, type = \"exchange\",\n",
    "               lb = 0, ub = 0)\n",
    "B.add_boundary(G_toxin_e, type = \"exchange\",\n",
    "               lb = 0, ub = 0)\n",
    "F.add_boundary(B_toxin_e, type = \"exchange\",\n",
    "               lb = 0, ub = 0)\n",
    "F.add_boundary(G_toxin_e, type = \"exchange\",\n",
    "               lb = 0, ub = 0)\n",
    "G.add_boundary(B_toxin_e, type = \"exchange\",\n",
    "               lb = 0, ub = 0)\n",
    "G.add_boundary(F_toxin_e, type = \"exchange\",\n",
    "               lb = 0, ub = 0)\n",
    "I.add_boundary(B_toxin_e, type = \"exchange\",\n",
    "               lb = 0, ub = 0)"
   ]
  },
  {
   "cell_type": "code",
   "execution_count": 4,
   "metadata": {},
   "outputs": [
    {
     "data": {
      "text/html": [
       "<h3>Objective</h3><p>1.0 Growth = 0.0</p><h4>Uptake</h4><table border=\"1\" class=\"dataframe\">\n",
       "  <thead>\n",
       "    <tr style=\"text-align: right;\">\n",
       "      <th>Metabolite</th>\n",
       "      <th>Reaction</th>\n",
       "      <th>Flux</th>\n",
       "      <th>C-Number</th>\n",
       "      <th>C-Flux</th>\n",
       "    </tr>\n",
       "  </thead>\n",
       "  <tbody>\n",
       "  </tbody>\n",
       "</table><h4>Secretion</h4><table border=\"1\" class=\"dataframe\">\n",
       "  <thead>\n",
       "    <tr style=\"text-align: right;\">\n",
       "      <th>Metabolite</th>\n",
       "      <th>Reaction</th>\n",
       "      <th>Flux</th>\n",
       "      <th>C-Number</th>\n",
       "      <th>C-Flux</th>\n",
       "    </tr>\n",
       "  </thead>\n",
       "  <tbody>\n",
       "  </tbody>\n",
       "</table>"
      ],
      "text/plain": [
       "<cobra.summary.model_summary.ModelSummary at 0x7f3ea46dc220>"
      ]
     },
     "execution_count": 4,
     "metadata": {},
     "output_type": "execute_result"
    }
   ],
   "source": [
    "I.summary()"
   ]
  },
  {
   "cell_type": "code",
   "execution_count": 5,
   "metadata": {},
   "outputs": [],
   "source": [
    "\n",
    "### Make the COMETS models with the constitive toxins\n",
    "\n",
    "B_comets = c.model(B)\n",
    "B_comets.id = \"B\"\n",
    "F_comets = c.model(F)\n",
    "F_comets.id = \"F\"\n",
    "G_comets = c.model(G)\n",
    "G_comets.id = \"G\"\n",
    "I_comets = c.model(I)\n",
    "I_comets.id = \"I\"\n",
    "\n",
    "B_comets.open_exchanges()\n",
    "F_comets.open_exchanges()\n",
    "G_comets.open_exchanges()\n",
    "I_comets.open_exchanges()\n",
    "\n",
    "B_comets.initial_pop = [[0,0, 0.01]]\n",
    "F_comets.initial_pop = [[0,0, 0.01]]\n",
    "G_comets.initial_pop = [[0,0, 0.01]]\n",
    "I_comets.initial_pop = [[0,0, 0.01]]\n"
   ]
  },
  {
   "cell_type": "markdown",
   "metadata": {},
   "source": [
    "# First, we will just make the comets models without the toxin signals and run a well-mixed simulation. "
   ]
  },
  {
   "cell_type": "code",
   "execution_count": 6,
   "metadata": {},
   "outputs": [],
   "source": [
    "params = c.params()\n",
    "params.set_param(\"timeStep\", .1)\n",
    "params.set_param(\"maxCycles\", 200)\n",
    "params.set_param(\"spaceWidth\", 10) # cm\n",
    "params.set_param(\"defaultKm\", 0.000001)\n",
    "params.set_param(\"maxSpaceBiomass\", 1000)\n",
    "params.set_param(\"writeMediaLog\", True)\n",
    "params.set_param(\"MediaLogRate\", 1)\n",
    "params.set_param(\"writeFluxLog\", True)\n",
    "params.set_param(\"FluxLogRate\", 1)"
   ]
  },
  {
   "cell_type": "code",
   "execution_count": 7,
   "metadata": {},
   "outputs": [],
   "source": [
    "\n",
    "unlimited = [\"EX_ca2_e\",\"EX_cl_e\",\"EX_co2_e\",\"EX_cobalt2_e\",\"EX_cu2_e\",\n",
    "             \"EX_fe2_e\",\"EX_fe3_e\",\"EX_h_e\",\"EX_h2o_e\",\"EX_k_e\",\"EX_mg2_e\",\n",
    "             \"EX_mn2_e\",\"EX_mobd_e\",\"EX_na1_e\",\"EX_nh4_e\",\"EX_ni2_e\",\n",
    "             \"EX_o2_e\",\"EX_pi_e\",\"EX_sel_e\",\"EX_slnt_e\",\"EX_so4_e\",\n",
    "             \"EX_tungs_e\",\"EX_zn2_e\"]\n",
    "cobra_medium = {key: 10. for key in unlimited}\n",
    "cobra_medium\n",
    "cobra_medium[\"EX_glc__D_e\"] = 10."
   ]
  },
  {
   "cell_type": "code",
   "execution_count": 8,
   "metadata": {},
   "outputs": [
    {
     "name": "stdout",
     "output_type": "stream",
     "text": [
      "\n",
      "Running COMETS simulation ...\n",
      "Done!\n"
     ]
    },
    {
     "data": {
      "text/plain": [
       "<AxesSubplot:xlabel='cycle'>"
      ]
     },
     "execution_count": 8,
     "metadata": {},
     "output_type": "execute_result"
    },
    {
     "data": {
      "image/png": "[encoded data removed]",
      "text/plain": [
       "<Figure size 432x288 with 1 Axes>"
      ]
     },
     "metadata": {
      "needs_background": "light"
     },
     "output_type": "display_data"
    }
   ],
   "source": [
    "# baseline, just constitutive toxins\n",
    "models = [B_comets, F_comets, G_comets, I_comets]\n",
    "\n",
    "\n",
    "layout = c.layout(models)\n",
    "for met in unlimited:\n",
    "    met = met[3:]\n",
    "    if met in layout.media.metabolite.values:\n",
    "        layout.set_specific_metabolite(met, 1000.)\n",
    "layout.set_specific_metabolite(\"glc__D_e\", 5.)\n",
    "\n",
    "sim = c.comets(layout, params)\n",
    "sim.VERSION = \"comets_multitoxin\"\n",
    "sim.set_classpath(\"bin\", '/home/jeremy/Dropbox/work_related/harcombe_lab/segre/jars/comets_multitoxin.jar')\n",
    "sim.run(delete_files = True)\n",
    "baseline = sim.total_biomass\n",
    "baseline.plot(x = \"cycle\", logy = True)"
   ]
  },
  {
   "cell_type": "code",
   "execution_count": 9,
   "metadata": {},
   "outputs": [
    {
     "data": {
      "text/html": [
       "<div>\n",
       "<style scoped>\n",
       "    .dataframe tbody tr th:only-of-type {\n",
       "        vertical-align: middle;\n",
       "    }\n",
       "\n",
       "    .dataframe tbody tr th {\n",
       "        vertical-align: top;\n",
       "    }\n",
       "\n",
       "    .dataframe thead th {\n",
       "        text-align: right;\n",
       "    }\n",
       "</style>\n",
       "<table border=\"1\" class=\"dataframe\">\n",
       "  <thead>\n",
       "    <tr style=\"text-align: right;\">\n",
       "      <th></th>\n",
       "      <th>REACTION_NAMES</th>\n",
       "      <th>ID</th>\n",
       "      <th>LB</th>\n",
       "      <th>UB</th>\n",
       "      <th>EXCH</th>\n",
       "      <th>EXCH_IND</th>\n",
       "      <th>V_MAX</th>\n",
       "      <th>KM</th>\n",
       "      <th>HILL</th>\n",
       "    </tr>\n",
       "  </thead>\n",
       "  <tbody>\n",
       "    <tr>\n",
       "      <th>2137</th>\n",
       "      <td>Growth</td>\n",
       "      <td>2138</td>\n",
       "      <td>0.0</td>\n",
       "      <td>1000.0</td>\n",
       "      <td>False</td>\n",
       "      <td>0</td>\n",
       "      <td>NaN</td>\n",
       "      <td>NaN</td>\n",
       "      <td>NaN</td>\n",
       "    </tr>\n",
       "  </tbody>\n",
       "</table>\n",
       "</div>"
      ],
      "text/plain": [
       "     REACTION_NAMES    ID   LB      UB   EXCH  EXCH_IND  V_MAX  KM  HILL\n",
       "2137         Growth  2138  0.0  1000.0  False         0    NaN NaN   NaN"
      ]
     },
     "execution_count": 9,
     "metadata": {},
     "output_type": "execute_result"
    }
   ],
   "source": [
    "B_comets.reactions.loc[B_comets.reactions.REACTION_NAMES == \"Growth\",:]"
   ]
  },
  {
   "cell_type": "code",
   "execution_count": 10,
   "metadata": {},
   "outputs": [
    {
     "data": {
      "text/html": [
       "<div>\n",
       "<style scoped>\n",
       "    .dataframe tbody tr th:only-of-type {\n",
       "        vertical-align: middle;\n",
       "    }\n",
       "\n",
       "    .dataframe tbody tr th {\n",
       "        vertical-align: top;\n",
       "    }\n",
       "\n",
       "    .dataframe thead th {\n",
       "        text-align: right;\n",
       "    }\n",
       "</style>\n",
       "<table border=\"1\" class=\"dataframe\">\n",
       "  <thead>\n",
       "    <tr style=\"text-align: right;\">\n",
       "      <th></th>\n",
       "      <th>REACTION_NAMES</th>\n",
       "      <th>ID</th>\n",
       "      <th>LB</th>\n",
       "      <th>UB</th>\n",
       "      <th>EXCH</th>\n",
       "      <th>EXCH_IND</th>\n",
       "      <th>V_MAX</th>\n",
       "      <th>KM</th>\n",
       "      <th>HILL</th>\n",
       "    </tr>\n",
       "  </thead>\n",
       "  <tbody>\n",
       "    <tr>\n",
       "      <th>2152</th>\n",
       "      <td>EX_F_toxin_e</td>\n",
       "      <td>2153</td>\n",
       "      <td>-1000.0</td>\n",
       "      <td>1000.0</td>\n",
       "      <td>True</td>\n",
       "      <td>229</td>\n",
       "      <td>NaN</td>\n",
       "      <td>NaN</td>\n",
       "      <td>NaN</td>\n",
       "    </tr>\n",
       "  </tbody>\n",
       "</table>\n",
       "</div>"
      ],
      "text/plain": [
       "     REACTION_NAMES    ID      LB      UB  EXCH  EXCH_IND  V_MAX  KM  HILL\n",
       "2152   EX_F_toxin_e  2153 -1000.0  1000.0  True       229    NaN NaN   NaN"
      ]
     },
     "execution_count": 10,
     "metadata": {},
     "output_type": "execute_result"
    }
   ],
   "source": [
    "B_comets.reactions.loc[B_comets.reactions.REACTION_NAMES == \"EX_F_toxin_e\",:]"
   ]
  },
  {
   "cell_type": "code",
   "execution_count": 11,
   "metadata": {},
   "outputs": [
    {
     "data": {
      "text/html": [
       "<div>\n",
       "<style scoped>\n",
       "    .dataframe tbody tr th:only-of-type {\n",
       "        vertical-align: middle;\n",
       "    }\n",
       "\n",
       "    .dataframe tbody tr th {\n",
       "        vertical-align: top;\n",
       "    }\n",
       "\n",
       "    .dataframe thead th {\n",
       "        text-align: right;\n",
       "    }\n",
       "</style>\n",
       "<table border=\"1\" class=\"dataframe\">\n",
       "  <thead>\n",
       "    <tr style=\"text-align: right;\">\n",
       "      <th></th>\n",
       "      <th>REACTION_NAMES</th>\n",
       "      <th>ID</th>\n",
       "      <th>LB</th>\n",
       "      <th>UB</th>\n",
       "      <th>EXCH</th>\n",
       "      <th>EXCH_IND</th>\n",
       "      <th>V_MAX</th>\n",
       "      <th>KM</th>\n",
       "      <th>HILL</th>\n",
       "    </tr>\n",
       "  </thead>\n",
       "  <tbody>\n",
       "    <tr>\n",
       "      <th>2153</th>\n",
       "      <td>EX_G_toxin_e</td>\n",
       "      <td>2154</td>\n",
       "      <td>-1000.0</td>\n",
       "      <td>1000.0</td>\n",
       "      <td>True</td>\n",
       "      <td>230</td>\n",
       "      <td>NaN</td>\n",
       "      <td>NaN</td>\n",
       "      <td>NaN</td>\n",
       "    </tr>\n",
       "  </tbody>\n",
       "</table>\n",
       "</div>"
      ],
      "text/plain": [
       "     REACTION_NAMES    ID      LB      UB  EXCH  EXCH_IND  V_MAX  KM  HILL\n",
       "2153   EX_G_toxin_e  2154 -1000.0  1000.0  True       230    NaN NaN   NaN"
      ]
     },
     "execution_count": 11,
     "metadata": {},
     "output_type": "execute_result"
    }
   ],
   "source": [
    "B_comets.reactions.loc[B_comets.reactions.REACTION_NAMES == \"EX_G_toxin_e\",:]"
   ]
  },
  {
   "cell_type": "markdown",
   "metadata": {},
   "source": [
    "## Second, we will add the multitoxin signals and re-run in well-mixed env.\n",
    "\n",
    "Note that we must specify a maximum growth rate.  Often I will do this by calculating the max growth rate. In the actual simulations, we may wish to set them all to the lowest any of the four models can achieve on that medium.\n",
    "\n",
    "Multitoxins are added using the model.add_multitoxin() function. This takes six arguments:\n",
    "\n",
    "1. The affected reaction (usually the biomass reaction)\n",
    "2. The exchange indices of the toxins, in a list\n",
    "3. Whether the upper or lower bound is affected (really, upper bound is all that makes sense)\n",
    "4. The max flux through that reaction in the absence of toxins. If the biomass reaction is the affected reaction, this should be the maximum growth rate achievable in the medium.\n",
    "5. A list of km values associated with the toxins\n",
    "6. A list of hill coefficients associated with the toxins.\n",
    "\n",
    "imagine two toxins concentrations, \"a\" and \"b\", which are the mmol amount / spaceWidth^3, and which have exchange indices 40 and 56.\n",
    "\n",
    "Imagine a growth rate maximum in the absence of toxins of \"vmax\", and a biomass # 300.\n",
    "\n",
    "Imagine they have kms k_a and k_b, and hill coefficients h_a and h_b. \n",
    "\n",
    "actual_bound = $vmax * \\frac{k_a ^ {h_a}}{k_a^{h_a} + a^{h_a}}* \\frac{k_b^ {h_b}}{k_b^{h_b} + b^{h_b}}$\n",
    "\n",
    "Higher hill coefficients will cause more rapid changes as concentration approaches km. \n",
    "\n",
    "\n",
    "The above would be used with model.add_multitoxin(300, \\[40, 56\\], \"ub\", vmax, \\[k_a, k_b\\], \\[h_a, h_b\\])"
   ]
  },
  {
   "cell_type": "code",
   "execution_count": 12,
   "metadata": {},
   "outputs": [
    {
     "name": "stderr",
     "output_type": "stream",
     "text": [
      "/home/jeremy/miniconda3/envs/comets/lib/python3.8/site-packages/cometspy/model.py:185: FutureWarning: The frame.append method is deprecated and will be removed from pandas in a future version. Use pandas.concat instead.\n",
      "  self.multitoxins = self.multitoxins.append(new_row, ignore_index=True)\n",
      "/home/jeremy/miniconda3/envs/comets/lib/python3.8/site-packages/cometspy/model.py:185: FutureWarning: The frame.append method is deprecated and will be removed from pandas in a future version. Use pandas.concat instead.\n",
      "  self.multitoxins = self.multitoxins.append(new_row, ignore_index=True)\n",
      "/home/jeremy/miniconda3/envs/comets/lib/python3.8/site-packages/cometspy/model.py:185: FutureWarning: The frame.append method is deprecated and will be removed from pandas in a future version. Use pandas.concat instead.\n",
      "  self.multitoxins = self.multitoxins.append(new_row, ignore_index=True)\n",
      "/home/jeremy/miniconda3/envs/comets/lib/python3.8/site-packages/cometspy/model.py:185: FutureWarning: The frame.append method is deprecated and will be removed from pandas in a future version. Use pandas.concat instead.\n",
      "  self.multitoxins = self.multitoxins.append(new_row, ignore_index=True)\n"
     ]
    }
   ],
   "source": [
    "B_comets = c.model(B)\n",
    "B_comets.id = \"B\"\n",
    "F_comets = c.model(F)\n",
    "F_comets.id = \"F\"\n",
    "G_comets = c.model(G)\n",
    "G_comets.id = \"G\"\n",
    "I_comets = c.model(I)\n",
    "I_comets.id = \"I\"\n",
    "\n",
    "B_comets.open_exchanges()\n",
    "F_comets.open_exchanges()\n",
    "G_comets.open_exchanges()\n",
    "I_comets.open_exchanges()\n",
    "\n",
    "B_comets.initial_pop = [[0,0, 0.01]]\n",
    "F_comets.initial_pop = [[0,0, 0.01]]\n",
    "G_comets.initial_pop = [[0,0, 0.01]]\n",
    "I_comets.initial_pop = [[0,0, 0.01]]\n",
    "\n",
    "B.medium = {k:10. for k,v in cobra_medium.items() if k in [e.id for e in B.exchanges]}\n",
    "B_growth_rate_max = B.slim_optimize(0)\n",
    "B_comets.add_multitoxin(2138, [229, 230], \"ub\", B_growth_rate_max, [2.e-5, 2.e-5], [5,5])\n",
    "                        \n",
    "                        \n",
    "             #           [0.00010554809570312502,\n",
    "              #           0.00010132179260253905], [5, 5])\n",
    "\n",
    "# effects of G and B on F\n",
    "F.medium = {k:10. for k,v in cobra_medium.items() if k in [e.id for e in F.exchanges]}\n",
    "F_growth_rate_max = F.slim_optimize(0)\n",
    "F_comets.add_multitoxin(2246, [265, 264], \"ub\", F_growth_rate_max, [2.e-5, 2.e-5], [5,5])\n",
    "               #     [0.00010336053967475891,\n",
    "               #      0.00010313453674316405], [5, 5])\n",
    "\n",
    "#effect of B on G\n",
    "G.medium = {k:10. for k,v in cobra_medium.items() if k in [e.id for e in G.exchanges]}\n",
    "G_growth_rate_max = G.slim_optimize(0)\n",
    "G_comets.add_multitoxin(2139, [234], \"ub\", G_growth_rate_max, [1.e-3], [5])\n",
    "              #  [8.088378906250001e-05], [5])\n",
    "\n",
    "# effect of B on I\n",
    "I.medium = {k:10. for k,v in cobra_medium.items() if k in [e.id for e in I.exchanges]}\n",
    "I_growth_rate_max = I.slim_optimize(0)\n",
    "I_comets.add_multitoxin(2488, [275], \"ub\", I_growth_rate_max, [1], [5])\n",
    "           # [8.13232421875e-05], [5])\n"
   ]
  },
  {
   "cell_type": "code",
   "execution_count": 13,
   "metadata": {},
   "outputs": [
    {
     "name": "stdout",
     "output_type": "stream",
     "text": [
      "comets_multitoxin.jar\n",
      "\n",
      "Running COMETS simulation ...\n",
      "Done!\n"
     ]
    }
   ],
   "source": [
    "models = [B_comets, F_comets, G_comets, I_comets]\n",
    "\n",
    "\n",
    "layout = c.layout(models)\n",
    "for met in unlimited:\n",
    "    met = met[3:]\n",
    "    if met in layout.media.metabolite.values:\n",
    "        layout.set_specific_metabolite(met, 1000.)\n",
    "layout.set_specific_metabolite(\"glc__D_e\", 5.)\n",
    "\n",
    "sim = c.comets(layout, params)\n",
    "sim.VERSION = \"comets_multitoxin.jar\"\n",
    "sim.set_classpath(\"bin\", '/home/jeremy/Dropbox/work_related/harcombe_lab/segre/jars/comets_multitoxin.jar')\n",
    "print(sim.VERSION)\n",
    "sim.run(delete_files = True)\n",
    "withtoxins = sim.total_biomass\n"
   ]
  },
  {
   "cell_type": "code",
   "execution_count": 14,
   "metadata": {},
   "outputs": [
    {
     "data": {
      "text/plain": [
       "<AxesSubplot:xlabel='cycle'>"
      ]
     },
     "execution_count": 14,
     "metadata": {},
     "output_type": "execute_result"
    },
    {
     "data": {
      "image/png": "[encoded data removed]",
      "text/plain": [
       "<Figure size 432x288 with 1 Axes>"
      ]
     },
     "metadata": {
      "needs_background": "light"
     },
     "output_type": "display_data"
    },
    {
     "data": {
      "image/png": "[encoded data removed]",
      "text/plain": [
       "<Figure size 432x288 with 1 Axes>"
      ]
     },
     "metadata": {
      "needs_background": "light"
     },
     "output_type": "display_data"
    }
   ],
   "source": [
    "baseline.plot(x = \"cycle\")\n",
    "withtoxins.plot(x = \"cycle\")"
   ]
  },
  {
   "cell_type": "markdown",
   "metadata": {},
   "source": [
    "# the parameters above cause a pretty instantaneous effect that makes growth go from full to none once the toxin concentrations are near km. It is certainly worth playing with the parameters, possibly one model pair at a time, to develop the dynamics desired.\n",
    "\n",
    "# Regardless, it is straightforward to place these models in a spatial environment just like we would any others:"
   ]
  },
  {
   "cell_type": "code",
   "execution_count": 15,
   "metadata": {},
   "outputs": [],
   "source": [
    "def pick_unique_locations(width, height, n, edge_space = 0):\n",
    "    locs = []\n",
    "    while len(locs) < n:\n",
    "        loc = (random.randrange(edge_space, width - edge_space),\n",
    "               random.randrange(edge_space, height - edge_space))\n",
    "        if loc not in locs:\n",
    "            locs.append(loc)\n",
    "    return(locs)\n",
    "\n",
    "grid_size =[30, 30] # this was 100x100 in the actual sims!\n",
    "\n",
    "locs = pick_unique_locations(grid_size[0], grid_size[1], 40, 3)\n",
    "B_locs = locs[0:10]\n",
    "F_locs = locs[10:20]\n",
    "G_locs = locs[20:30]\n",
    "I_locs = locs[30:40]\n"
   ]
  },
  {
   "cell_type": "code",
   "execution_count": 16,
   "metadata": {},
   "outputs": [
    {
     "name": "stdout",
     "output_type": "stream",
     "text": [
      "\n",
      "Running COMETS simulation ...\n"
     ]
    },
    {
     "ename": "KeyboardInterrupt",
     "evalue": "",
     "output_type": "error",
     "traceback": [
      "\u001b[0;31m---------------------------------------------------------------------------\u001b[0m",
      "\u001b[0;31mKeyboardInterrupt\u001b[0m                         Traceback (most recent call last)",
      "\u001b[0;32m/tmp/ipykernel_46692/956340748.py\u001b[0m in \u001b[0;36m<module>\u001b[0;34m\u001b[0m\n\u001b[1;32m     19\u001b[0m \u001b[0msim\u001b[0m\u001b[0;34m.\u001b[0m\u001b[0mVERSION\u001b[0m \u001b[0;34m=\u001b[0m \u001b[0;34m\"comets_multitoxin\"\u001b[0m\u001b[0;34m\u001b[0m\u001b[0;34m\u001b[0m\u001b[0m\n\u001b[1;32m     20\u001b[0m \u001b[0msim\u001b[0m\u001b[0;34m.\u001b[0m\u001b[0mset_classpath\u001b[0m\u001b[0;34m(\u001b[0m\u001b[0;34m\"bin\"\u001b[0m\u001b[0;34m,\u001b[0m \u001b[0;34m'/home/jeremy/Dropbox/work_related/harcombe_lab/segre/jars/comets_multitoxin.jar'\u001b[0m\u001b[0;34m)\u001b[0m\u001b[0;34m\u001b[0m\u001b[0;34m\u001b[0m\u001b[0m\n\u001b[0;32m---> 21\u001b[0;31m \u001b[0msim\u001b[0m\u001b[0;34m.\u001b[0m\u001b[0mrun\u001b[0m\u001b[0;34m(\u001b[0m\u001b[0mdelete_files\u001b[0m \u001b[0;34m=\u001b[0m \u001b[0;32mTrue\u001b[0m\u001b[0;34m)\u001b[0m\u001b[0;34m\u001b[0m\u001b[0;34m\u001b[0m\u001b[0m\n\u001b[0m\u001b[1;32m     22\u001b[0m \u001b[0mbaseline\u001b[0m \u001b[0;34m=\u001b[0m \u001b[0msim\u001b[0m\u001b[0;34m.\u001b[0m\u001b[0mtotal_biomass\u001b[0m\u001b[0;34m\u001b[0m\u001b[0;34m\u001b[0m\u001b[0m\n\u001b[1;32m     23\u001b[0m \u001b[0mbaseline\u001b[0m\u001b[0;34m.\u001b[0m\u001b[0mplot\u001b[0m\u001b[0;34m(\u001b[0m\u001b[0mx\u001b[0m \u001b[0;34m=\u001b[0m \u001b[0;34m\"cycle\"\u001b[0m\u001b[0;34m,\u001b[0m \u001b[0mlogy\u001b[0m \u001b[0;34m=\u001b[0m \u001b[0;32mTrue\u001b[0m\u001b[0;34m)\u001b[0m\u001b[0;34m\u001b[0m\u001b[0;34m\u001b[0m\u001b[0m\n",
      "\u001b[0;32m~/miniconda3/envs/comets/lib/python3.8/site-packages/cometspy/comets.py\u001b[0m in \u001b[0;36mrun\u001b[0;34m(self, delete_files)\u001b[0m\n\u001b[1;32m    389\u001b[0m                      shell=True, stdout=sp.PIPE, stderr=sp.STDOUT)\n\u001b[1;32m    390\u001b[0m \u001b[0;34m\u001b[0m\u001b[0m\n\u001b[0;32m--> 391\u001b[0;31m         \u001b[0mself\u001b[0m\u001b[0;34m.\u001b[0m\u001b[0mrun_output\u001b[0m\u001b[0;34m,\u001b[0m \u001b[0mself\u001b[0m\u001b[0;34m.\u001b[0m\u001b[0mrun_errors\u001b[0m \u001b[0;34m=\u001b[0m \u001b[0mp\u001b[0m\u001b[0;34m.\u001b[0m\u001b[0mcommunicate\u001b[0m\u001b[0;34m(\u001b[0m\u001b[0;34m)\u001b[0m\u001b[0;34m\u001b[0m\u001b[0;34m\u001b[0m\u001b[0m\n\u001b[0m\u001b[1;32m    392\u001b[0m         \u001b[0mself\u001b[0m\u001b[0;34m.\u001b[0m\u001b[0mrun_output\u001b[0m \u001b[0;34m=\u001b[0m \u001b[0mself\u001b[0m\u001b[0;34m.\u001b[0m\u001b[0mrun_output\u001b[0m\u001b[0;34m.\u001b[0m\u001b[0mdecode\u001b[0m\u001b[0;34m(\u001b[0m\u001b[0;34m)\u001b[0m\u001b[0;34m\u001b[0m\u001b[0;34m\u001b[0m\u001b[0m\n\u001b[1;32m    393\u001b[0m \u001b[0;34m\u001b[0m\u001b[0m\n",
      "\u001b[0;32m~/miniconda3/envs/comets/lib/python3.8/subprocess.py\u001b[0m in \u001b[0;36mcommunicate\u001b[0;34m(self, input, timeout)\u001b[0m\n\u001b[1;32m   1013\u001b[0m                 \u001b[0mself\u001b[0m\u001b[0;34m.\u001b[0m\u001b[0m_stdin_write\u001b[0m\u001b[0;34m(\u001b[0m\u001b[0minput\u001b[0m\u001b[0;34m)\u001b[0m\u001b[0;34m\u001b[0m\u001b[0;34m\u001b[0m\u001b[0m\n\u001b[1;32m   1014\u001b[0m             \u001b[0;32melif\u001b[0m \u001b[0mself\u001b[0m\u001b[0;34m.\u001b[0m\u001b[0mstdout\u001b[0m\u001b[0;34m:\u001b[0m\u001b[0;34m\u001b[0m\u001b[0;34m\u001b[0m\u001b[0m\n\u001b[0;32m-> 1015\u001b[0;31m                 \u001b[0mstdout\u001b[0m \u001b[0;34m=\u001b[0m \u001b[0mself\u001b[0m\u001b[0;34m.\u001b[0m\u001b[0mstdout\u001b[0m\u001b[0;34m.\u001b[0m\u001b[0mread\u001b[0m\u001b[0;34m(\u001b[0m\u001b[0;34m)\u001b[0m\u001b[0;34m\u001b[0m\u001b[0;34m\u001b[0m\u001b[0m\n\u001b[0m\u001b[1;32m   1016\u001b[0m                 \u001b[0mself\u001b[0m\u001b[0;34m.\u001b[0m\u001b[0mstdout\u001b[0m\u001b[0;34m.\u001b[0m\u001b[0mclose\u001b[0m\u001b[0;34m(\u001b[0m\u001b[0;34m)\u001b[0m\u001b[0;34m\u001b[0m\u001b[0;34m\u001b[0m\u001b[0m\n\u001b[1;32m   1017\u001b[0m             \u001b[0;32melif\u001b[0m \u001b[0mself\u001b[0m\u001b[0;34m.\u001b[0m\u001b[0mstderr\u001b[0m\u001b[0;34m:\u001b[0m\u001b[0;34m\u001b[0m\u001b[0;34m\u001b[0m\u001b[0m\n",
      "\u001b[0;31mKeyboardInterrupt\u001b[0m: "
     ]
    }
   ],
   "source": [
    "initial_biomass = 1.e-10\n",
    "B_comets.initial_pop = [[loc[0], loc[1], initial_biomass] for loc in B_locs]\n",
    "F_comets.initial_pop = [[loc[0], loc[1], initial_biomass] for loc in F_locs]\n",
    "G_comets.initial_pop = [[loc[0], loc[1], initial_biomass] for loc in G_locs]\n",
    "I_comets.initial_pop = [[loc[0], loc[1], initial_biomass] for loc in I_locs]\n",
    "\n",
    "params.set_param(\"spaceWidth\", 0.02) # cm, changing this will influence toxicity, need t play with\n",
    "params.set_param(\"minSpaceBiomass\", 1.e-15)\n",
    "\n",
    "layout = c.layout([B_comets,F_comets,G_comets,I_comets])\n",
    "layout.grid = grid_size\n",
    "for met in unlimited:\n",
    "    met = met[3:]\n",
    "    if met in layout.media.metabolite.values:\n",
    "        layout.set_specific_metabolite(met, 1000.)\n",
    "layout.set_specific_metabolite(\"glc__D_e\", 4.e-7)\n",
    "\n",
    "sim = c.comets(layout, params)\n",
    "sim.VERSION = \"comets_multitoxin\"\n",
    "sim.set_classpath(\"bin\", '/home/jeremy/Dropbox/work_related/harcombe_lab/segre/jars/comets_multitoxin.jar')\n",
    "sim.run(delete_files = True)\n",
    "baseline = sim.total_biomass\n",
    "baseline.plot(x = \"cycle\", logy = True)\n"
   ]
  },
  {
   "cell_type": "code",
   "execution_count": null,
   "metadata": {},
   "outputs": [],
   "source": []
  }
 ],
 "metadata": {
  "kernelspec": {
   "display_name": "Python 3 (ipykernel)",
   "language": "python",
   "name": "python3"
  },
  "language_info": {
   "codemirror_mode": {
    "name": "ipython",
    "version": 3
   },
   "file_extension": ".py",
   "mimetype": "text/x-python",
   "name": "python",
   "nbconvert_exporter": "python",
   "pygments_lexer": "ipython3",
   "version": "3.8.12"
  }
 },
 "nbformat": 4,
 "nbformat_minor": 4
}
