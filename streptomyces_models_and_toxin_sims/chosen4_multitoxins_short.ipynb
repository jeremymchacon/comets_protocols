{
 "cells": [
  {
   "cell_type": "code",
   "execution_count": 12,
   "metadata": {},
   "outputs": [],
   "source": [
    "import cobra\n",
    "import os\n",
    "import numpy as np\n",
    "from copy import copy\n",
    "import re\n",
    "import pandas as pd\n",
    "import sys\n",
    "import random\n",
    "import cometspy as c\n",
    "pd.set_option('display.max_rows', None)\n",
    "import itertools\n",
    "os.environ[\"GUROBI_COMETS_HOME\"] = \"/opt/gurobi952/linux64\"\n"
   ]
  },
  {
   "cell_type": "markdown",
   "metadata": {},
   "source": [
    "# This notebook puts together the four species multitoxin simulation more briefly. \n",
    "\n",
    "At the top, pick the nutrient. The list was grabbed from \"growthrate_chosen4_toxin_selection.ipynb\"\n",
    "\n",
    "vEX_csn_e, EX_ura_e (low growth rate) EX_but_e, EX_ad_e (med), EX_thr__L_e (med), EX_tre_e "
   ]
  },
  {
   "cell_type": "code",
   "execution_count": 13,
   "metadata": {},
   "outputs": [],
   "source": [
    "# low growth rate nutrients\n",
    "low_gr = [\"EX_csn_e\", \"EX_ura_e\"]\n",
    "# med growth rate nutrients\n",
    "med_gr = [\"EX_but_e\", \"EX_ad_e\", \"EX_thr__L_e\"]\n",
    "# high growth rate\n",
    "high_gr = [\"EX_tre_e\"]\n",
    "\n",
    "carbon_source = \"EX_tre_e\""
   ]
  },
  {
   "cell_type": "code",
   "execution_count": 14,
   "metadata": {},
   "outputs": [],
   "source": [
    "\n",
    "unlimited = [\"EX_ca2_e\",\"EX_cl_e\",\"EX_co2_e\",\"EX_cobalt2_e\",\"EX_cu2_e\",\n",
    "             \"EX_fe2_e\",\"EX_fe3_e\",\"EX_h_e\",\"EX_h2o_e\",\"EX_k_e\",\"EX_mg2_e\",\n",
    "             \"EX_mn2_e\",\"EX_mobd_e\",\"EX_na1_e\",\"EX_nh4_e\",\"EX_ni2_e\",\n",
    "             \"EX_o2_e\",\"EX_pi_e\",\"EX_sel_e\",\"EX_slnt_e\",\"EX_so4_e\",\n",
    "             \"EX_tungs_e\",\"EX_zn2_e\"]\n",
    "\n",
    "\n",
    "model_dir = \"./models/\"\n",
    "\n",
    "model_shortnames = {\"B\" : \"ST32113_grampos\",\n",
    "             \"F\" : \"ST32123_grampos\",\n",
    "             \"G\" : \"ST32124_grampos\",\n",
    "             \"I\" :\"ST32133_grampos\"}\n",
    "\n",
    "model_ids = list(model_shortnames.values())\n",
    "B = cobra.io.read_sbml_model(model_dir + model_shortnames[\"B\"] + \"_2022gapclosed.xml\")\n",
    "B.id = \"B\"\n",
    "F = cobra.io.read_sbml_model(model_dir + model_shortnames[\"F\"] + \"_2022gapclosed.xml\")\n",
    "F.id = \"F\"\n",
    "G = cobra.io.read_sbml_model(model_dir + model_shortnames[\"G\"] + \"_2022gapclosed.xml\")\n",
    "G.id = \"G\"\n",
    "I = cobra.io.read_sbml_model(model_dir + model_shortnames[\"I\"] + \"_2022gapclosed.xml\")\n",
    "I.id = \"I\""
   ]
  },
  {
   "cell_type": "code",
   "execution_count": 15,
   "metadata": {},
   "outputs": [
    {
     "data": {
      "text/html": [
       "\n",
       "        <table>\n",
       "            <tr>\n",
       "                <td><strong>Reaction identifier</strong></td><td>EX_B_toxin_e</td>\n",
       "            </tr><tr>\n",
       "                <td><strong>Name</strong></td><td>exchange</td>\n",
       "            </tr><tr>\n",
       "                <td><strong>Memory address</strong></td>\n",
       "                <td>0x07fd6c0955df0</td>\n",
       "            </tr><tr>\n",
       "                <td><strong>Stoichiometry</strong></td>\n",
       "                <td>\n",
       "                    <p style='text-align:right'>B_toxin_e --></p>\n",
       "                    <p style='text-align:right'>--></p>\n",
       "                </td>\n",
       "            </tr><tr>\n",
       "                <td><strong>GPR</strong></td><td></td>\n",
       "            </tr><tr>\n",
       "                <td><strong>Lower bound</strong></td><td>0</td>\n",
       "            </tr><tr>\n",
       "                <td><strong>Upper bound</strong></td><td>0</td>\n",
       "            </tr>\n",
       "        </table>\n",
       "        "
      ],
      "text/plain": [
       "<Reaction EX_B_toxin_e at 0x7fd6c0955df0>"
      ]
     },
     "execution_count": 15,
     "metadata": {},
     "output_type": "execute_result"
    }
   ],
   "source": [
    "\n",
    "### Make the cobra models which make toxin, export it, and see it\n",
    "from cobra import Metabolite, Reaction\n",
    "\n",
    "B_toxin_c = Metabolite(\"B_toxin_c\", compartment = \"C_c\")\n",
    "B_toxin_e = Metabolite(\"B_toxin_e\", compartment = \"C_e\")\n",
    "B_objective = B.reactions.Growth\n",
    "# arbitrarily have one unit of toxin produced for 1 gram of cells\n",
    "B_objective.add_metabolites({B_toxin_c: 1.})\n",
    "B_toxin_tpp = Reaction(\"B_toxin_tpp\", \n",
    "                       lower_bound = 0, upper_bound = 1000)\n",
    "B_toxin_tpp.add_metabolites({B_toxin_c : -1,\n",
    "                       B_toxin_e: 1})\n",
    "B.add_reactions([B_toxin_tpp])\n",
    "B.add_boundary(B_toxin_e, type = \"exchange\",\n",
    "               lb = 0, ub = 1000)\n",
    "\n",
    "\n",
    "\n",
    "F_toxin_c = Metabolite(\"F_toxin_c\", compartment = \"C_c\")\n",
    "F_toxin_e = Metabolite(\"F_toxin_e\", compartment = \"C_e\")\n",
    "F_objective = F.reactions.Growth\n",
    "# arbitrarily have one unit of toxin produced for 1 gram of cells\n",
    "F_objective.add_metabolites({F_toxin_c: 1.})\n",
    "F_toxin_tpp = Reaction(\"F_toxin_tpp\", \n",
    "                       lower_bound = 0, upper_bound = 1000)\n",
    "F_toxin_tpp.add_metabolites({F_toxin_c : -1,\n",
    "                       F_toxin_e: 1})\n",
    "F.add_reactions([F_toxin_tpp])\n",
    "F.add_boundary(F_toxin_e, type = \"exchange\",\n",
    "               lb = 0, ub = 1000)\n",
    "\n",
    "\n",
    "G_toxin_c = Metabolite(\"G_toxin_c\", compartment = \"C_c\")\n",
    "G_toxin_e = Metabolite(\"G_toxin_e\", compartment = \"C_e\")\n",
    "G_objective = G.reactions.Growth\n",
    "# arbitrarily have one unit of toxin produced for 1 gram of cells\n",
    "G_objective.add_metabolites({G_toxin_c: 1.})\n",
    "G_toxin_tpp = Reaction(\"G_toxin_tpp\", \n",
    "                       lower_bound = 0, upper_bound = 1000)\n",
    "G_toxin_tpp.add_metabolites({G_toxin_c : -1,\n",
    "                       G_toxin_e: 1})\n",
    "G.add_reactions([G_toxin_tpp])\n",
    "G.add_boundary(G_toxin_e, type = \"exchange\",\n",
    "               lb = 0, ub = 1000)\n",
    "\n",
    "\n",
    "# B needs to see F,G\n",
    "# F needs to see B,G\n",
    "#G needs to see B, F\n",
    "#I needs to see B\n",
    "\n",
    "B.add_boundary(F_toxin_e, type = \"exchange\",\n",
    "               lb = 0, ub = 0)\n",
    "B.add_boundary(G_toxin_e, type = \"exchange\",\n",
    "               lb = 0, ub = 0)\n",
    "F.add_boundary(B_toxin_e, type = \"exchange\",\n",
    "               lb = 0, ub = 0)\n",
    "F.add_boundary(G_toxin_e, type = \"exchange\",\n",
    "               lb = 0, ub = 0)\n",
    "G.add_boundary(B_toxin_e, type = \"exchange\",\n",
    "               lb = 0, ub = 0)\n",
    "G.add_boundary(F_toxin_e, type = \"exchange\",\n",
    "               lb = 0, ub = 0)\n",
    "I.add_boundary(B_toxin_e, type = \"exchange\",\n",
    "               lb = 0, ub = 0)"
   ]
  },
  {
   "cell_type": "markdown",
   "metadata": {},
   "source": [
    "## Here, I am setting the max growth rate for ALL species to be the same--the minimum across species on the carbon source. "
   ]
  },
  {
   "cell_type": "code",
   "execution_count": 16,
   "metadata": {},
   "outputs": [
    {
     "name": "stdout",
     "output_type": "stream",
     "text": [
      "growth rates = [0.9565404522889523, 0.956540452288932, 0.9565404522889304, 0.956540452288943]\n",
      "min growth rate = 0.9565404522889304\n"
     ]
    }
   ],
   "source": [
    "cobra_medium = {key: 10. for key in unlimited}\n",
    "cobra_medium\n",
    "cobra_medium[carbon_source] = 10.\n",
    "\n",
    "B.medium = {k:10. for k,v in cobra_medium.items() if k in [e.id for e in B.exchanges]}\n",
    "B_gr = B.slim_optimize(0)\n",
    "F.medium = {k:10. for k,v in cobra_medium.items() if k in [e.id for e in F.exchanges]}\n",
    "F_gr = F.slim_optimize(0)\n",
    "G.medium = {k:10. for k,v in cobra_medium.items() if k in [e.id for e in G.exchanges]}\n",
    "G_gr = G.slim_optimize(0)\n",
    "I.medium = {k:10. for k,v in cobra_medium.items() if k in [e.id for e in I.exchanges]}\n",
    "I_gr = I.slim_optimize(0)\n",
    "print(f\"growth rates = {[B_gr, F_gr, G_gr, I_gr]}\")\n",
    "min_gr = min([B_gr, F_gr, G_gr, I_gr])\n",
    "print(f\"min growth rate = {min_gr}\")"
   ]
  },
  {
   "cell_type": "code",
   "execution_count": 17,
   "metadata": {},
   "outputs": [
    {
     "name": "stderr",
     "output_type": "stream",
     "text": [
      "/home/jeremy/miniconda3/envs/comets/lib/python3.8/site-packages/cometspy/model.py:185: FutureWarning: The frame.append method is deprecated and will be removed from pandas in a future version. Use pandas.concat instead.\n",
      "  self.multitoxins = self.multitoxins.append(new_row, ignore_index=True)\n",
      "/home/jeremy/miniconda3/envs/comets/lib/python3.8/site-packages/cometspy/model.py:185: FutureWarning: The frame.append method is deprecated and will be removed from pandas in a future version. Use pandas.concat instead.\n",
      "  self.multitoxins = self.multitoxins.append(new_row, ignore_index=True)\n",
      "/home/jeremy/miniconda3/envs/comets/lib/python3.8/site-packages/cometspy/model.py:185: FutureWarning: The frame.append method is deprecated and will be removed from pandas in a future version. Use pandas.concat instead.\n",
      "  self.multitoxins = self.multitoxins.append(new_row, ignore_index=True)\n",
      "/home/jeremy/miniconda3/envs/comets/lib/python3.8/site-packages/cometspy/model.py:185: FutureWarning: The frame.append method is deprecated and will be removed from pandas in a future version. Use pandas.concat instead.\n",
      "  self.multitoxins = self.multitoxins.append(new_row, ignore_index=True)\n"
     ]
    }
   ],
   "source": [
    "B_comets = c.model(B)\n",
    "B_comets.id = \"B\"\n",
    "F_comets = c.model(F)\n",
    "F_comets.id = \"F\"\n",
    "G_comets = c.model(G)\n",
    "G_comets.id = \"G\"\n",
    "I_comets = c.model(I)\n",
    "I_comets.id = \"I\"\n",
    "\n",
    "B_comets.open_exchanges()\n",
    "F_comets.open_exchanges()\n",
    "G_comets.open_exchanges()\n",
    "I_comets.open_exchanges()\n",
    "\n",
    "B_comets.initial_pop = [[0,0, 0.01]]\n",
    "F_comets.initial_pop = [[0,0, 0.01]]\n",
    "G_comets.initial_pop = [[0,0, 0.01]]\n",
    "I_comets.initial_pop = [[0,0, 0.01]]\n",
    "\n",
    "B_comets.add_multitoxin(2138, [229, 230], \"ub\", min_gr, [2.e-5, 2.e-5], [5,5])\n",
    "\n",
    "F_comets.add_multitoxin(2246, [265, 264], \"ub\", min_gr, [2.e-5, 2.e-5], [5,5])\n",
    "\n",
    "G_comets.add_multitoxin(2139, [234], \"ub\", min_gr, [1.e-3], [5])\n",
    "\n",
    "I_comets.add_multitoxin(2488, [275], \"ub\", min_gr, [1], [5])\n",
    "\n"
   ]
  },
  {
   "cell_type": "markdown",
   "metadata": {},
   "source": [
    "## Spatial environment"
   ]
  },
  {
   "cell_type": "code",
   "execution_count": 18,
   "metadata": {},
   "outputs": [],
   "source": [
    "params = c.params()\n",
    "params.set_param(\"timeStep\", .1) # probably this needs to be reduced dramatically\n",
    "params.set_param(\"maxCycles\", 200)\n",
    "params.set_param(\"spaceWidth\", 0.02) # cm, changing this will influence toxicity, need t play with\n",
    "params.set_param(\"defaultKm\", 0.000001)\n",
    "params.set_param(\"maxSpaceBiomass\", 1000)\n",
    "params.set_param(\"minSpaceBiomass\", 1.e-15)\n",
    "params.set_param(\"writeMediaLog\", False)\n",
    "params.set_param(\"MediaLogRate\", 1)\n",
    "params.set_param(\"writeFluxLog\", False)\n",
    "params.set_param(\"FluxLogRate\", 1)\n"
   ]
  },
  {
   "cell_type": "code",
   "execution_count": 19,
   "metadata": {},
   "outputs": [],
   "source": [
    "def pick_unique_locations(width, height, n, edge_space = 0):\n",
    "    locs = []\n",
    "    while len(locs) < n:\n",
    "        loc = (random.randrange(edge_space, width - edge_space),\n",
    "               random.randrange(edge_space, height - edge_space))\n",
    "        if loc not in locs:\n",
    "            locs.append(loc)\n",
    "    return(locs)\n",
    "\n",
    "grid_size =[30, 30] \n",
    "\n",
    "locs = pick_unique_locations(grid_size[0], grid_size[1], 40, 3)\n",
    "B_locs = locs[0:10]\n",
    "F_locs = locs[10:20]\n",
    "G_locs = locs[20:30]\n",
    "I_locs = locs[30:40]\n"
   ]
  },
  {
   "cell_type": "code",
   "execution_count": 20,
   "metadata": {},
   "outputs": [],
   "source": [
    "initial_biomass = 1.e-10\n",
    "B_comets.initial_pop = [[loc[0], loc[1], initial_biomass] for loc in B_locs]\n",
    "F_comets.initial_pop = [[loc[0], loc[1], initial_biomass] for loc in F_locs]\n",
    "G_comets.initial_pop = [[loc[0], loc[1], initial_biomass] for loc in G_locs]\n",
    "I_comets.initial_pop = [[loc[0], loc[1], initial_biomass] for loc in I_locs]\n",
    "\n",
    "\n",
    "layout = c.layout([B_comets,F_comets,G_comets,I_comets])\n",
    "layout.grid = grid_size\n",
    "for met in unlimited:\n",
    "    met = met[3:]\n",
    "    if met in layout.media.metabolite.values:\n",
    "        layout.set_specific_metabolite(met, 1000.)\n",
    "layout.set_specific_metabolite(carbon_source[3:], 4.e-7)\n",
    "\n",
    "\n"
   ]
  },
  {
   "cell_type": "markdown",
   "metadata": {},
   "source": [
    "# Reduce the diffusion constant of the toxin by a factor of 10"
   ]
  },
  {
   "cell_type": "code",
   "execution_count": 21,
   "metadata": {},
   "outputs": [],
   "source": [
    "layout.media.loc[layout.media.metabolite ==\"B_toxin_e\", \"diff_c\"] = 5.e-7\n",
    "layout.media.loc[layout.media.metabolite ==\"F_toxin_e\", \"diff_c\"] = 5.e-7\n",
    "layout.media.loc[layout.media.metabolite ==\"G_toxin_e\", \"diff_c\"] = 5.e-7"
   ]
  },
  {
   "cell_type": "code",
   "execution_count": 22,
   "metadata": {},
   "outputs": [
    {
     "name": "stdout",
     "output_type": "stream",
     "text": [
      "\n",
      "Running COMETS simulation ...\n",
      "Done!\n"
     ]
    },
    {
     "data": {
      "text/plain": [
       "<AxesSubplot:xlabel='cycle'>"
      ]
     },
     "execution_count": 22,
     "metadata": {},
     "output_type": "execute_result"
    },
    {
     "data": {
      "image/png": "[encoded data removed]",
      "text/plain": [
       "<Figure size 432x288 with 1 Axes>"
      ]
     },
     "metadata": {
      "needs_background": "light"
     },
     "output_type": "display_data"
    }
   ],
   "source": [
    "sim = c.comets(layout, params)\n",
    "sim.VERSION = \"comets_multitoxin\"\n",
    "sim.set_classpath(\"bin\", '/home/jeremy/Dropbox/work_related/harcombe_lab/segre/jars/comets_multitoxin.jar')\n",
    "sim.run(delete_files = True)\n",
    "baseline = sim.total_biomass\n",
    "baseline.plot(x = \"cycle\", logy = True)"
   ]
  },
  {
   "cell_type": "code",
   "execution_count": null,
   "metadata": {},
   "outputs": [],
   "source": []
  }
 ],
 "metadata": {
  "kernelspec": {
   "display_name": "Python 3 (ipykernel)",
   "language": "python",
   "name": "python3"
  },
  "language_info": {
   "codemirror_mode": {
    "name": "ipython",
    "version": 3
   },
   "file_extension": ".py",
   "mimetype": "text/x-python",
   "name": "python",
   "nbconvert_exporter": "python",
   "pygments_lexer": "ipython3",
   "version": "3.8.12"
  }
 },
 "nbformat": 4,
 "nbformat_minor": 4
}
